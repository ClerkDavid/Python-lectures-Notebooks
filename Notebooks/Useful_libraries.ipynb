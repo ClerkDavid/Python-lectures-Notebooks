{
  "nbformat": 4,
  "nbformat_minor": 0,
  "metadata": {
    "kernelspec": {
      "display_name": "Python 3",
      "language": "python",
      "name": "python3"
    },
    "language_info": {
      "codemirror_mode": {
        "name": "ipython",
        "version": 3
      },
      "file_extension": ".py",
      "mimetype": "text/x-python",
      "name": "python",
      "nbconvert_exporter": "python",
      "pygments_lexer": "ipython3",
      "version": "3.7.6"
    },
    "colab": {
      "name": "Useful_libraries.ipynb",
      "provenance": []
    }
  },
  "cells": [
    {
      "cell_type": "code",
      "metadata": {
        "jupyter": {
          "outputs_hidden": false
        },
        "id": "32L86GWVH7xT",
        "colab_type": "code",
        "colab": {
          "base_uri": "https://localhost:8080/",
          "height": 68
        },
        "outputId": "cc2b4368-ce56-46f8-b484-e7400338bb04"
      },
      "source": [
        "# The following is to know when this notebook has been run and with which python version.\n",
        "import time, sys\n",
        "print(time.ctime())\n",
        "print(sys.version.split('|')[0])"
      ],
      "execution_count": 2,
      "outputs": [
        {
          "output_type": "stream",
          "text": [
            "Mon Sep 21 14:45:13 2020\n",
            "3.6.9 (default, Jul 17 2020, 12:50:27) \n",
            "[GCC 8.4.0]\n"
          ],
          "name": "stdout"
        }
      ]
    },
    {
      "cell_type": "code",
      "metadata": {
        "jupyter": {
          "outputs_hidden": false
        },
        "id": "Ok2reGgrH7xX",
        "colab_type": "code",
        "colab": {}
      },
      "source": [
        "import numpy as np"
      ],
      "execution_count": 3,
      "outputs": []
    },
    {
      "cell_type": "markdown",
      "metadata": {
        "id": "LT0khpzjH7xb",
        "colab_type": "text"
      },
      "source": [
        "# F Some useful libraries that make life easier"
      ]
    },
    {
      "cell_type": "markdown",
      "metadata": {
        "id": "MNiJIN0eH7xb",
        "colab_type": "text"
      },
      "source": [
        "This is part of the Python lecture given by Christophe Morisset at IA-UNAM."
      ]
    },
    {
      "cell_type": "markdown",
      "metadata": {
        "id": "nW9XV2pgH7xc",
        "colab_type": "text"
      },
      "source": [
        "This lecture will give some insights to the most useful python libraries. It is NOT exhaustive, you have to read the corresponding manual pages to find the best use you can have of them. The list of all python-included libraries is here: https://docs.python.org/2/library/"
      ]
    },
    {
      "cell_type": "markdown",
      "metadata": {
        "id": "8gr3DHdrH7xc",
        "colab_type": "text"
      },
      "source": [
        "### time, datetime and timeit"
      ]
    },
    {
      "cell_type": "markdown",
      "metadata": {
        "id": "1uk9swL3H7xd",
        "colab_type": "text"
      },
      "source": [
        "*  https://docs.python.org/2/library/time.html\n",
        "*  https://docs.python.org/2/library/datetime.html"
      ]
    },
    {
      "cell_type": "code",
      "metadata": {
        "jupyter": {
          "outputs_hidden": false
        },
        "id": "ZvXi9pc6H7xd",
        "colab_type": "code",
        "colab": {}
      },
      "source": [
        "import time\n",
        "import datetime"
      ],
      "execution_count": null,
      "outputs": []
    },
    {
      "cell_type": "code",
      "metadata": {
        "jupyter": {
          "outputs_hidden": false
        },
        "id": "lU1GfjWQH7xg",
        "colab_type": "code",
        "colab": {},
        "outputId": "31341222-0a96-40e5-c483-b23cc112691c"
      },
      "source": [
        "print(time.ctime()) # current time, in a string format"
      ],
      "execution_count": null,
      "outputs": [
        {
          "output_type": "stream",
          "text": [
            "Wed Jul  1 13:29:24 2020\n"
          ],
          "name": "stdout"
        }
      ]
    },
    {
      "cell_type": "code",
      "metadata": {
        "jupyter": {
          "outputs_hidden": false
        },
        "id": "TP9z7JIrH7xj",
        "colab_type": "code",
        "colab": {},
        "outputId": "7b922769-af17-4e16-b767-2d85ef83d106"
      },
      "source": [
        "lt = time.localtime()\n",
        "print(lt)"
      ],
      "execution_count": null,
      "outputs": [
        {
          "output_type": "stream",
          "text": [
            "time.struct_time(tm_year=2020, tm_mon=7, tm_mday=1, tm_hour=13, tm_min=29, tm_sec=25, tm_wday=2, tm_yday=183, tm_isdst=1)\n"
          ],
          "name": "stdout"
        }
      ]
    },
    {
      "cell_type": "code",
      "metadata": {
        "jupyter": {
          "outputs_hidden": false
        },
        "id": "d9TfFezSH7xm",
        "colab_type": "code",
        "colab": {},
        "outputId": "72ae095a-e73c-45e6-a0a6-d530ecc01cb9"
      },
      "source": [
        "time.strftime(\"%a, %d %b %Y %H:%M:%S\",lt)"
      ],
      "execution_count": null,
      "outputs": [
        {
          "output_type": "execute_result",
          "data": {
            "text/plain": [
              "'Wed, 01 Jul 2020 13:29:25'"
            ]
          },
          "metadata": {
            "tags": []
          },
          "execution_count": 6
        }
      ]
    },
    {
      "cell_type": "code",
      "metadata": {
        "jupyter": {
          "outputs_hidden": false
        },
        "id": "u2oSqfGUH7xp",
        "colab_type": "code",
        "colab": {},
        "outputId": "8e26d33c-9b90-41b4-82cd-98ef387934c0"
      },
      "source": [
        "print(datetime.datetime.today())"
      ],
      "execution_count": null,
      "outputs": [
        {
          "output_type": "stream",
          "text": [
            "2020-07-01 13:29:26.085318\n"
          ],
          "name": "stdout"
        }
      ]
    },
    {
      "cell_type": "code",
      "metadata": {
        "jupyter": {
          "outputs_hidden": false
        },
        "id": "XnWpbpEYH7xs",
        "colab_type": "code",
        "colab": {}
      },
      "source": [
        "today = datetime.date.today()\n",
        "philae_landing = datetime.date(2014, 11, 11)"
      ],
      "execution_count": null,
      "outputs": []
    },
    {
      "cell_type": "code",
      "metadata": {
        "jupyter": {
          "outputs_hidden": false
        },
        "id": "SI03c7FUH7xu",
        "colab_type": "code",
        "colab": {}
      },
      "source": [
        "time_to_landing = philae_landing - today"
      ],
      "execution_count": null,
      "outputs": []
    },
    {
      "cell_type": "code",
      "metadata": {
        "jupyter": {
          "outputs_hidden": false
        },
        "id": "gN0jfcjvH7xw",
        "colab_type": "code",
        "colab": {},
        "outputId": "1b39712f-72ff-46d9-9da5-87d963ff67aa"
      },
      "source": [
        "if philae_landing > today:\n",
        "    print('Philae landing in {} days.'.format(time_to_landing.days))\n",
        "else:\n",
        "    print('Philae landed since {} days.'.format(-time_to_landing.days))"
      ],
      "execution_count": null,
      "outputs": [
        {
          "output_type": "stream",
          "text": [
            "Philae landed since 2059 days.\n"
          ],
          "name": "stdout"
        }
      ]
    },
    {
      "cell_type": "code",
      "metadata": {
        "jupyter": {
          "outputs_hidden": false
        },
        "id": "Z0hr13QHH7xz",
        "colab_type": "code",
        "colab": {},
        "outputId": "004bee19-3dc5-40fe-e58d-47c1973f4e6e"
      },
      "source": [
        "start = time.time()\n",
        "for i in np.arange(1000):\n",
        "    t = np.math.factorial(i)\n",
        "end = time.time()\n",
        "print('1000 factorials done in {0:.3f} secs.'.format(end-start))"
      ],
      "execution_count": null,
      "outputs": [
        {
          "output_type": "stream",
          "text": [
            "1000 factorials done in 0.021 secs.\n"
          ],
          "name": "stdout"
        }
      ]
    },
    {
      "cell_type": "code",
      "metadata": {
        "jupyter": {
          "outputs_hidden": false
        },
        "id": "jGGg-R8qH7x1",
        "colab_type": "code",
        "colab": {},
        "outputId": "deee27f6-8ef0-4731-f865-3211cde30e10"
      },
      "source": [
        "from timeit import Timer\n",
        "command = \"\"\"\\\n",
        "for i in np.arange(1000):\n",
        "    t = np.math.factorial(i)\n",
        "\"\"\"\n",
        "t = Timer(command, setup='import numpy as np')\n",
        "print(t.timeit(number=10))"
      ],
      "execution_count": null,
      "outputs": [
        {
          "output_type": "stream",
          "text": [
            "0.1761178519999973\n"
          ],
          "name": "stdout"
        }
      ]
    },
    {
      "cell_type": "markdown",
      "metadata": {
        "id": "IKKQyTaOH7x3",
        "colab_type": "text"
      },
      "source": [
        "in ipython, one can use the magic timeit function:"
      ]
    },
    {
      "cell_type": "code",
      "metadata": {
        "jupyter": {
          "outputs_hidden": false
        },
        "id": "7AKQv69eH7x4",
        "colab_type": "code",
        "colab": {},
        "outputId": "378dcb09-2966-4c46-9ef0-e9d16f5c3feb"
      },
      "source": [
        "%timeit np.math.factorial(50)"
      ],
      "execution_count": null,
      "outputs": [
        {
          "output_type": "stream",
          "text": [
            "709 ns ± 6.22 ns per loop (mean ± std. dev. of 7 runs, 1000000 loops each)\n"
          ],
          "name": "stdout"
        }
      ]
    },
    {
      "cell_type": "markdown",
      "metadata": {
        "id": "FXSsYMCQH7x6",
        "colab_type": "text"
      },
      "source": [
        "or for the whole cell:"
      ]
    },
    {
      "cell_type": "code",
      "metadata": {
        "jupyter": {
          "outputs_hidden": false
        },
        "id": "f-JfQ523H7x6",
        "colab_type": "code",
        "colab": {},
        "outputId": "544cfcea-b0b2-42ad-e250-060334db5cb3"
      },
      "source": [
        "%%timeit\n",
        "for i in np.arange(1000):\n",
        "    t = np.math.factorial(i)"
      ],
      "execution_count": null,
      "outputs": [
        {
          "output_type": "stream",
          "text": [
            "17.8 ms ± 576 µs per loop (mean ± std. dev. of 7 runs, 100 loops each)\n"
          ],
          "name": "stdout"
        }
      ]
    },
    {
      "cell_type": "markdown",
      "metadata": {
        "id": "KyLxhPrrH7x9",
        "colab_type": "text"
      },
      "source": [
        "### os"
      ]
    },
    {
      "cell_type": "markdown",
      "metadata": {
        "id": "4uO40v8yH7x9",
        "colab_type": "text"
      },
      "source": [
        "https://docs.python.org/2/library/os.html \n",
        "This module provides a portable way of using operating system dependent functionality. If you just want to read or write a file see open(), if you want to manipulate paths, see the os.path module, and if you want to read all the lines in all the files on the command line see the fileinput module. For creating temporary files and directories see the tempfile module, and for high-level file and directory handling see the shutil module."
      ]
    },
    {
      "cell_type": "code",
      "metadata": {
        "jupyter": {
          "outputs_hidden": false
        },
        "id": "lBmM4BzFH7x9",
        "colab_type": "code",
        "colab": {}
      },
      "source": [
        "import os"
      ],
      "execution_count": null,
      "outputs": []
    },
    {
      "cell_type": "code",
      "metadata": {
        "jupyter": {
          "outputs_hidden": false
        },
        "id": "y_JgGxBRH7yA",
        "colab_type": "code",
        "colab": {},
        "outputId": "62fd7014-38ff-4998-835a-64836c519046"
      },
      "source": [
        "# os.environ is a dictionnary containing the environment variables and values\n",
        "if 'HOME' in os.environ:\n",
        "    print(os.environ['HOME'])\n",
        "else:\n",
        "    print('This OS is too limited to understand HOME')"
      ],
      "execution_count": null,
      "outputs": [
        {
          "output_type": "stream",
          "text": [
            "/Users/christophemorisset\n"
          ],
          "name": "stdout"
        }
      ]
    },
    {
      "cell_type": "code",
      "metadata": {
        "jupyter": {
          "outputs_hidden": false
        },
        "id": "vlLWYIdBH7yC",
        "colab_type": "code",
        "colab": {},
        "outputId": "aa36cca9-8c69-4afc-e412-fbe34fc79589"
      },
      "source": [
        "# if variable doesn't exists, getenv returns None\n",
        "print(os.getenv('HOMMMMMME'))"
      ],
      "execution_count": null,
      "outputs": [
        {
          "output_type": "stream",
          "text": [
            "None\n"
          ],
          "name": "stdout"
        }
      ]
    },
    {
      "cell_type": "code",
      "metadata": {
        "jupyter": {
          "outputs_hidden": false
        },
        "id": "KYbr2GKiH7yE",
        "colab_type": "code",
        "colab": {},
        "outputId": "cbd69379-4e89-4e70-a736-80c7f9e27612"
      },
      "source": [
        "# get current working directory\n",
        "cwd = os.getcwd()\n",
        "print(cwd)\n",
        "print(cwd.split('/')[-1])"
      ],
      "execution_count": null,
      "outputs": [
        {
          "output_type": "stream",
          "text": [
            "/Users/christophemorisset/Google Drive/Pro/Python-MySQL/Notebooks/Notebooks\n",
            "Notebooks\n"
          ],
          "name": "stdout"
        }
      ]
    },
    {
      "cell_type": "code",
      "metadata": {
        "jupyter": {
          "outputs_hidden": false
        },
        "id": "0JP8pXdqH7yG",
        "colab_type": "code",
        "colab": {},
        "outputId": "63e2ea1b-4f8b-4e3f-9c8f-224f771e443d"
      },
      "source": [
        "new_dir = '/tmp/test3456'\n",
        "if not os.path.exists(new_dir):\n",
        "    os.mkdir(new_dir)\n",
        "    print('Dir {} created'.format(new_dir))\n",
        "else:\n",
        "    print('Dir {} exists'.format(new_dir))"
      ],
      "execution_count": null,
      "outputs": [
        {
          "output_type": "stream",
          "text": [
            "Dir /tmp/test3456 created\n"
          ],
          "name": "stdout"
        }
      ]
    },
    {
      "cell_type": "code",
      "metadata": {
        "jupyter": {
          "outputs_hidden": false
        },
        "id": "kGmoz7jPH7yI",
        "colab_type": "code",
        "colab": {},
        "outputId": "922140b8-baee-48b0-960d-8885df3352a8"
      },
      "source": [
        "# list all the files from a directory\n",
        "os.listdir(new_dir)"
      ],
      "execution_count": null,
      "outputs": [
        {
          "output_type": "execute_result",
          "data": {
            "text/plain": [
              "[]"
            ]
          },
          "metadata": {
            "tags": []
          },
          "execution_count": 20
        }
      ]
    },
    {
      "cell_type": "code",
      "metadata": {
        "jupyter": {
          "outputs_hidden": false
        },
        "id": "2uBhkUOaH7yK",
        "colab_type": "code",
        "colab": {},
        "outputId": "8531f5e7-c91b-43cf-c506-86a01c4d21b0"
      },
      "source": [
        "os.chdir(cwd)\n",
        "os.getcwd()"
      ],
      "execution_count": null,
      "outputs": [
        {
          "output_type": "execute_result",
          "data": {
            "text/plain": [
              "'/Users/christophemorisset/Google Drive/Pro/Python-MySQL/Notebooks/Notebooks'"
            ]
          },
          "metadata": {
            "tags": []
          },
          "execution_count": 21
        }
      ]
    },
    {
      "cell_type": "code",
      "metadata": {
        "jupyter": {
          "outputs_hidden": false
        },
        "id": "1M8EMNZEH7yM",
        "colab_type": "code",
        "colab": {},
        "outputId": "f9b1b3f2-2fd6-4acf-84f9-5d01f9bf5d23"
      },
      "source": [
        "# Renaming files in a directory\n",
        "cwd = os.getcwd()\n",
        "os.chdir('/tmp')\n",
        "for filename in os.listdir('./'):\n",
        "    #print(filename)\n",
        "    base_file, ext = os.path.splitext(filename)\n",
        "    #print(base_file, ext)\n",
        "    if ext == '.txt':\n",
        "        newname = base_file + '.exe'\n",
        "        os.rename(filename, newname)\n",
        "        print('file {0} renamed to {1}'.format(filename, newname))\n",
        "os.chdir(cwd)"
      ],
      "execution_count": null,
      "outputs": [
        {
          "output_type": "stream",
          "text": [
            "file test.txt renamed to test.exe\n"
          ],
          "name": "stdout"
        }
      ]
    },
    {
      "cell_type": "markdown",
      "metadata": {
        "id": "kaPSXOYRH7yO",
        "colab_type": "text"
      },
      "source": [
        "### glob"
      ]
    },
    {
      "cell_type": "markdown",
      "metadata": {
        "id": "6oAnvEGhH7yP",
        "colab_type": "text"
      },
      "source": [
        "https://docs.python.org/2/library/glob.html"
      ]
    },
    {
      "cell_type": "markdown",
      "metadata": {
        "id": "ZnoPMA0CH7yP",
        "colab_type": "text"
      },
      "source": [
        "No tilde expansion is done, but *, ?, and character ranges expressed with [] will be correctly matched."
      ]
    },
    {
      "cell_type": "code",
      "metadata": {
        "jupyter": {
          "outputs_hidden": false
        },
        "id": "7CeJ7TwrH7yP",
        "colab_type": "code",
        "colab": {}
      },
      "source": [
        "from glob import glob"
      ],
      "execution_count": null,
      "outputs": []
    },
    {
      "cell_type": "code",
      "metadata": {
        "jupyter": {
          "outputs_hidden": false
        },
        "id": "vdS5Y2c_H7yR",
        "colab_type": "code",
        "colab": {},
        "outputId": "b2ec586f-c0cf-4291-db3f-939deac94a47"
      },
      "source": [
        "ipynb_files = glob('*.ipynb')\n",
        "print(ipynb_files)"
      ],
      "execution_count": null,
      "outputs": [
        {
          "output_type": "stream",
          "text": [
            "['Calling Fortran.ipynb', 'intro_Scipy.ipynb', 'Ex1_with_res.ipynb', 'Parallel.ipynb', 'OOP.ipynb', 'Using_astropy.ipynb', 'Interact with files.ipynb', 'Useful_libraries.ipynb', 'intro_numpy.ipynb', 'intro_Python.ipynb', 'Ex1_done.ipynb', 'Ex1.ipynb', 'intro_Matplotlib.ipynb', 'Optimization.ipynb', 'Using_PyMySQL.ipynb']\n"
          ],
          "name": "stdout"
        }
      ]
    },
    {
      "cell_type": "markdown",
      "metadata": {
        "id": "P4M6EE0lH7yT",
        "colab_type": "text"
      },
      "source": [
        "### pathlib"
      ]
    },
    {
      "cell_type": "code",
      "metadata": {
        "id": "r7rccabJH7yT",
        "colab_type": "code",
        "colab": {}
      },
      "source": [
        "from pathlib import Path"
      ],
      "execution_count": null,
      "outputs": []
    },
    {
      "cell_type": "code",
      "metadata": {
        "id": "XWzbJNo9H7yV",
        "colab_type": "code",
        "colab": {},
        "outputId": "acee6845-ff50-41d6-ba74-d959a0cf3c41"
      },
      "source": [
        "new_dir = Path('/tmp/test1234')\n",
        "print(new_dir)\n",
        "print(new_dir.name)\n",
        "print(new_dir.parent)"
      ],
      "execution_count": null,
      "outputs": [
        {
          "output_type": "stream",
          "text": [
            "/tmp/test1234\n",
            "test1234\n",
            "/tmp\n"
          ],
          "name": "stdout"
        }
      ]
    },
    {
      "cell_type": "code",
      "metadata": {
        "id": "UC-fupn0H7yX",
        "colab_type": "code",
        "colab": {},
        "outputId": "128d841b-ca1a-405b-a9e6-4102c5415713"
      },
      "source": [
        "new_dir = Path('/tmp') / Path('test1234')\n",
        "print(new_dir)\n",
        "print(new_dir.name)\n",
        "print(new_dir.parent)"
      ],
      "execution_count": null,
      "outputs": [
        {
          "output_type": "stream",
          "text": [
            "/tmp/test1234\n",
            "test1234\n",
            "/tmp\n"
          ],
          "name": "stdout"
        }
      ]
    },
    {
      "cell_type": "code",
      "metadata": {
        "id": "vDcvaOqmH7yY",
        "colab_type": "code",
        "colab": {},
        "outputId": "94a3c798-8c40-4f2a-b090-aa9c6579a56f"
      },
      "source": [
        "if not new_dir.exists():\n",
        "    new_dir.mkdir() # may use exist_ok=True\n",
        "    print('Dir {} created'.format(new_dir))\n",
        "else:\n",
        "    print('Dir {} exists'.format(new_dir))"
      ],
      "execution_count": null,
      "outputs": [
        {
          "output_type": "stream",
          "text": [
            "Dir /tmp/test1234 exists\n"
          ],
          "name": "stdout"
        }
      ]
    },
    {
      "cell_type": "code",
      "metadata": {
        "id": "a7QuThp0H7ya",
        "colab_type": "code",
        "colab": {},
        "outputId": "7752e546-3509-4d01-f848-43b223ed2f7f"
      },
      "source": [
        "current = Path('.')\n",
        "for f in current.glob('*.ipynb'):\n",
        "    print(f, f.stem, f.suffix)"
      ],
      "execution_count": null,
      "outputs": [
        {
          "output_type": "stream",
          "text": [
            "Calling Fortran.ipynb Calling Fortran .ipynb\n",
            "intro_Scipy.ipynb intro_Scipy .ipynb\n",
            "Ex1_with_res.ipynb Ex1_with_res .ipynb\n",
            "Parallel.ipynb Parallel .ipynb\n",
            "OOP.ipynb OOP .ipynb\n",
            "Using_astropy.ipynb Using_astropy .ipynb\n",
            "Interact with files.ipynb Interact with files .ipynb\n",
            "Useful_libraries.ipynb Useful_libraries .ipynb\n",
            "intro_numpy.ipynb intro_numpy .ipynb\n",
            "intro_Python.ipynb intro_Python .ipynb\n",
            "Ex1_done.ipynb Ex1_done .ipynb\n",
            "Ex1.ipynb Ex1 .ipynb\n",
            "intro_Matplotlib.ipynb intro_Matplotlib .ipynb\n",
            "Optimization.ipynb Optimization .ipynb\n",
            "Using_PyMySQL.ipynb Using_PyMySQL .ipynb\n"
          ],
          "name": "stdout"
        }
      ]
    },
    {
      "cell_type": "code",
      "metadata": {
        "id": "oT4uVENSH7yc",
        "colab_type": "code",
        "colab": {},
        "outputId": "b4f964e0-9ac3-4ea9-8b08-73d2843644e8"
      },
      "source": [
        "new_dir = Path('/tmp') / Path('test1234')\n",
        "for f in new_dir.glob('test*.txt*'):\n",
        "    f.unlink()\n",
        "\n",
        "f = new_dir / Path('test1234.txt')\n",
        "f.touch()\n",
        "f = new_dir / Path('test5678.txt')\n",
        "f.touch()\n",
        "print(list(new_dir.glob('test*.txt*')))\n",
        "\n",
        "for f in new_dir.glob('test*.txt'):\n",
        "    new_f = f.with_suffix('.txt2')\n",
        "    if not new_f.exists():\n",
        "        f.rename(new_f)\n",
        "    else:\n",
        "        print('{} exists'.format(new_f))\n",
        "\n",
        "print(list(new_dir.glob('test*.txt*')))"
      ],
      "execution_count": null,
      "outputs": [
        {
          "output_type": "stream",
          "text": [
            "[PosixPath('/tmp/test1234/test5678.txt'), PosixPath('/tmp/test1234/test1234.txt')]\n",
            "[PosixPath('/tmp/test1234/test1234.txt2'), PosixPath('/tmp/test1234/test5678.txt2')]\n"
          ],
          "name": "stdout"
        }
      ]
    },
    {
      "cell_type": "markdown",
      "metadata": {
        "id": "9F_EN2-aH7yd",
        "colab_type": "text"
      },
      "source": [
        "### sys"
      ]
    },
    {
      "cell_type": "markdown",
      "metadata": {
        "id": "oz0aXUoWH7ye",
        "colab_type": "text"
      },
      "source": [
        "https://docs.python.org/2/library/sys.html\n",
        "This module provides access to some variables used or maintained by the interpreter and to functions that interact strongly with the interpreter. It is always available.\n",
        "\n",
        "The sys.argv list contains the arguments passed to the script, when the interpreter was started. The first item contains the name of the script itself."
      ]
    },
    {
      "cell_type": "code",
      "metadata": {
        "jupyter": {
          "outputs_hidden": false
        },
        "id": "rY6RzBbCH7ye",
        "colab_type": "code",
        "colab": {},
        "outputId": "fa5bb7c5-aa5f-4ba0-885f-1e4e12f405dc"
      },
      "source": [
        "%%writefile sys_text.py\n",
        "import sys\n",
        "for arg in sys.argv:\n",
        "    print(arg)\n",
        "\n"
      ],
      "execution_count": null,
      "outputs": [
        {
          "output_type": "stream",
          "text": [
            "Overwriting sys_text.py\n"
          ],
          "name": "stdout"
        }
      ]
    },
    {
      "cell_type": "code",
      "metadata": {
        "jupyter": {
          "outputs_hidden": false
        },
        "id": "q5yEYmmMH7yf",
        "colab_type": "code",
        "colab": {},
        "outputId": "aa1c1a43-c887-4779-bcd0-97c77022f4bb"
      },
      "source": [
        "!cat sys_text.py"
      ],
      "execution_count": null,
      "outputs": [
        {
          "output_type": "stream",
          "text": [
            "import sys\n",
            "for arg in sys.argv:\n",
            "    print(arg)\n"
          ],
          "name": "stdout"
        }
      ]
    },
    {
      "cell_type": "code",
      "metadata": {
        "jupyter": {
          "outputs_hidden": false
        },
        "id": "n0Hw7VJ6H7yh",
        "colab_type": "code",
        "colab": {},
        "outputId": "e8c80fc5-105e-420c-bb3a-864bf378cec0"
      },
      "source": [
        "! python sys_text.py tralala"
      ],
      "execution_count": null,
      "outputs": [
        {
          "output_type": "stream",
          "text": [
            "sys_text.py\n",
            "tralala\n"
          ],
          "name": "stdout"
        }
      ]
    },
    {
      "cell_type": "code",
      "metadata": {
        "jupyter": {
          "outputs_hidden": false
        },
        "id": "9L5py-KDH7yj",
        "colab_type": "code",
        "colab": {},
        "outputId": "e3d3b439-0685-498d-864d-4dde2ad3b682"
      },
      "source": [
        "%%writefile fact.py\n",
        "import sys\n",
        "import numpy\n",
        "print numpy.math.factorial(int(sys.argv[1]))\n",
        "\n"
      ],
      "execution_count": null,
      "outputs": [
        {
          "output_type": "stream",
          "text": [
            "Overwriting fact.py\n"
          ],
          "name": "stdout"
        }
      ]
    },
    {
      "cell_type": "code",
      "metadata": {
        "jupyter": {
          "outputs_hidden": false
        },
        "id": "6nTcEAO6H7ym",
        "colab_type": "code",
        "colab": {},
        "outputId": "e87636fb-83aa-44c1-cb6c-f4cd322e7f63"
      },
      "source": [
        "! python fact.py 6"
      ],
      "execution_count": null,
      "outputs": [
        {
          "output_type": "stream",
          "text": [
            "720\n"
          ],
          "name": "stdout"
        }
      ]
    },
    {
      "cell_type": "markdown",
      "metadata": {
        "id": "iKtaOioHH7yn",
        "colab_type": "text"
      },
      "source": [
        "A more complete managment of the argument (especially those like --v) is available using the argparse library. https://docs.python.org/2/library/argparse.html"
      ]
    },
    {
      "cell_type": "markdown",
      "metadata": {
        "id": "QdzXPqo1H7yo",
        "colab_type": "text"
      },
      "source": [
        "### Talking to the OS subprocess"
      ]
    },
    {
      "cell_type": "markdown",
      "metadata": {
        "id": "0ncmBCC4H7yo",
        "colab_type": "text"
      },
      "source": [
        "The os.popen method is deprecated, subprocess is prefered. A good tutorial is here: http://pymotw.com/2/subprocess/"
      ]
    },
    {
      "cell_type": "code",
      "metadata": {
        "jupyter": {
          "outputs_hidden": false
        },
        "id": "Xp7Yb8C_H7yo",
        "colab_type": "code",
        "colab": {}
      },
      "source": [
        "import subprocess"
      ],
      "execution_count": null,
      "outputs": []
    },
    {
      "cell_type": "code",
      "metadata": {
        "jupyter": {
          "outputs_hidden": false
        },
        "id": "l64kq98IH7yq",
        "colab_type": "code",
        "colab": {},
        "outputId": "997adcc3-c9c9-4cb4-d01d-0c1d08307588"
      },
      "source": [
        "ls -l"
      ],
      "execution_count": null,
      "outputs": [
        {
          "output_type": "stream",
          "text": [
            "total 74656\n",
            "-rwxr-xr-x  1 christophemorisset  staff    89353 Oct 26  2016 \u001b[31m0040000_6.00_33_50_02_15.bin_0.1.gz\u001b[m\u001b[m*\n",
            "-rw-------  1 christophemorisset  staff    85600 Jun 30  2017 0050000_6.00_33_50_02_15.bin_0.1.gz\n",
            "-rw-------  1 christophemorisset  staff    86018 Jun 30  2017 0050000_7.00_33_50_02_15.bin_0.1.gz\n",
            "-rw-------  1 christophemorisset  staff    86741 Jun 30  2017 0060000_6.00_33_50_02_15.bin_0.1.gz\n",
            "-rw-------  1 christophemorisset  staff    88843 Jun 30  2017 0070000_6.00_33_50_02_15.bin_0.1.gz\n",
            "-rw-------  1 christophemorisset  staff    89360 Jun 30  2017 0080000_6.00_33_50_02_15.bin_0.1.gz\n",
            "-rwxr-xr-x  1 christophemorisset  staff    89971 Oct 26  2016 \u001b[31m0090000_6.00_33_50_02_15.bin_0.1.gz\u001b[m\u001b[m*\n",
            "-rw-------  1 christophemorisset  staff    89722 Jun 30  2017 0100000_5.00_33_50_02_15.bin_0.1.gz\n",
            "-rwxr-xr-x  1 christophemorisset  staff    90544 Oct 26  2016 \u001b[31m0100000_6.00_33_50_02_15.bin_0.1.gz\u001b[m\u001b[m*\n",
            "-rw-------  1 christophemorisset  staff    91192 Jun 30  2017 0100000_7.00_33_50_02_15.bin_0.1.gz\n",
            "-rw-------  1 christophemorisset  staff    91475 Jun 30  2017 0100000_8.00_33_50_02_15.bin_0.1.gz\n",
            "-rw-------  1 christophemorisset  staff    90430 Jun 30  2017 0110000_6.00_33_50_02_15.bin_0.1.gz\n",
            "-rw-------  1 christophemorisset  staff    90960 Jun 30  2017 0110000_7.00_33_50_02_15.bin_0.1.gz\n",
            "-rw-------  1 christophemorisset  staff    89525 Jun 30  2017 0120000_6.00_33_50_02_15.bin_0.1.gz\n",
            "-rw-------  1 christophemorisset  staff    89899 Jun 30  2017 0130000_6.00_33_50_02_15.bin_0.1.gz\n",
            "-rwxr-xr-x  1 christophemorisset  staff    89170 Oct 26  2016 \u001b[31m0140000_6.00_33_50_02_15.bin_0.1.gz\u001b[m\u001b[m*\n",
            "-rw-------  1 christophemorisset  staff    89263 Jun 30  2017 0150000_6.00_33_50_02_15.bin_0.1.gz\n",
            "-rw-------  1 christophemorisset  staff    88929 Jun 30  2017 0160000_6.00_33_50_02_15.bin_0.1.gz\n",
            "-rw-------  1 christophemorisset  staff    88991 Jun 30  2017 0170000_6.00_33_50_02_15.bin_0.1.gz\n",
            "-rw-------  1 christophemorisset  staff    88780 Jun 30  2017 0180000_6.00_33_50_02_15.bin_0.1.gz\n",
            "-rw-------  1 christophemorisset  staff    89075 Jun 30  2017 0180000_7.00_33_50_02_15.bin_0.1.gz\n",
            "-rwxr-xr-x  1 christophemorisset  staff    88591 Oct 26  2016 \u001b[31m0190000_6.00_33_50_02_15.bin_0.1.gz\u001b[m\u001b[m*\n",
            "-rwxr-xr-x  1 christophemorisset  staff   466800 Sep 18  2015 \u001b[31mBPT1.pdf\u001b[m\u001b[m*\n",
            "-rwxr-xr-x  1 christophemorisset  staff    45181 Sep 18  2015 \u001b[31mBPT1.png\u001b[m\u001b[m*\n",
            "-rwxr-xr-x  1 christophemorisset  staff  4229587 Sep  9  2015 \u001b[31mCALIFA_ah7.dat.gz\u001b[m\u001b[m*\n",
            "-rwxr-xr-x  1 christophemorisset  staff    19376 Nov  9  2016 \u001b[31mCalling Fortran.ipynb\u001b[m\u001b[m*\n",
            "-rwxr-xr-x  1 christophemorisset  staff    86815 Jun  1  2016 \u001b[31mCalling Fortran.pdf\u001b[m\u001b[m*\n",
            "-rw-------  1 christophemorisset  staff      226 Jun 28  2017 Demo.pickle\n",
            "-rw-------  1 christophemorisset  staff      198 Jun 29  2017 Demo.pklz\n",
            "-rwxr-xr-x  1 christophemorisset  staff  2220144 Aug 31  2016 \u001b[31mDemo2.pickle\u001b[m\u001b[m*\n",
            "-rwxr-xr-x  1 christophemorisset  staff  2220109 Aug 31  2016 \u001b[31mDemo3.pickle\u001b[m\u001b[m*\n",
            "-rwxr-xr-x  1 christophemorisset  staff     7717 Sep  9  2015 \u001b[31mEx1.ipynb\u001b[m\u001b[m*\n",
            "-rwxr-xr-x  1 christophemorisset  staff   381664 Sep 22  2015 \u001b[31mEx1_done.ipynb\u001b[m\u001b[m*\n",
            "-rwxr-xr-x  1 christophemorisset  staff   315341 Sep 14  2015 \u001b[31mEx1_with_res.ipynb\u001b[m\u001b[m*\n",
            "-rwxr-xr-x@ 1 christophemorisset  staff   352680 Oct 16  2015 \u001b[31mFig1.eps\u001b[m\u001b[m*\n",
            "-rw-------  1 christophemorisset  staff   127137 Jun 29  2017 Fig1.pdf\n",
            "-rwxr-xr-x@ 1 christophemorisset  staff   838576 Aug 17  2016 \u001b[31mInstallPython.key\u001b[m\u001b[m*\n",
            "-rw-------  1 christophemorisset  staff     2113 Jun 30  2017 Interact with files.aux\n",
            "-rw-------  1 christophemorisset  staff   519777 Jun 30  2017 Interact with files.ipynb\n",
            "-rw-------  1 christophemorisset  staff    50000 Jun 30  2017 Interact with files.log\n",
            "-rw-------  1 christophemorisset  staff     1006 Jun 30  2017 Interact with files.out\n",
            "-rw-------  1 christophemorisset  staff   388118 Jun 30  2017 Interact with files.pdf\n",
            "-rw-------  1 christophemorisset  staff   101747 Jun 30  2017 Interact with files.tex\n",
            "drwxr-xr-x  6 christophemorisset  staff      204 Jun 30  2017 \u001b[34mInteract with files_files\u001b[m\u001b[m/\n",
            "-rwxr-xr-x  1 christophemorisset  staff   131497 Aug 12  2015 \u001b[31mIntro_1.odp\u001b[m\u001b[m*\n",
            "-rw-------  1 christophemorisset  staff   174202 Aug 12  2015 Intro_1.pdf\n",
            "-rwxr-xr-x  1 christophemorisset  staff   130234 Aug 12  2015 \u001b[31mIntro_2014.odp\u001b[m\u001b[m*\n",
            "-rw-r--r--  1 christophemorisset  staff   110524 Nov 22  2017 MySQL.pdf\n",
            "-rwxr-xr-x  1 christophemorisset  staff  1270918 Sep 21  2015 \u001b[31mMySQL.pdf.gz\u001b[m\u001b[m*\n",
            "-rw-------  1 christophemorisset  staff   707465 Jun 30  2017 OOP.ipynb\n",
            "-rw-------  1 christophemorisset  staff   568413 Jun 30  2017 OOP.pdf\n",
            "-rw-------  1 christophemorisset  staff   849205 Jun 30  2017 Optimization.ipynb\n",
            "-rwxr-xr-x  1 christophemorisset  staff   481656 Jun  5  2016 \u001b[31mOptimization.pdf\u001b[m\u001b[m*\n",
            "-rwxr-xr-x  1 christophemorisset  staff     2537 Nov  9  2016 \u001b[31mParallel.ipynb\u001b[m\u001b[m*\n",
            "-rw-------  1 christophemorisset  staff     4252 Nov 23  2016 Tarea1.py\n",
            "-rw-------  1 christophemorisset  staff    57614 Oct  3 18:08 Useful_libraries.ipynb\n",
            "-rw-------  1 christophemorisset  staff   129908 Jun 30  2017 Useful_libraries.pdf\n",
            "-rwxr-xr-x  1 christophemorisset  staff   262324 Nov 22  2017 \u001b[31mUsing_PyMySQL.ipynb\u001b[m\u001b[m*\n",
            "-rw-r--r--@ 1 christophemorisset  staff   221936 Nov 16  2016 Using_PyMySQL.pdf\n",
            "-rw-------  1 christophemorisset  staff   161715 Oct 19  2017 Using_astropy.ipynb\n",
            "-rw-------  1 christophemorisset  staff   206058 Jun 30  2017 Using_astropy.pdf\n",
            "drwxr-xr-x  3 christophemorisset  staff      102 Jun 29  2017 \u001b[34m__pycache__\u001b[m\u001b[m/\n",
            "-rwxr-xr-x  1 christophemorisset  staff       64 Aug 31  2016 \u001b[31mdata1.dat\u001b[m\u001b[m*\n",
            "-rwxr-xr-x  1 christophemorisset  staff       14 Aug 31  2016 \u001b[31mdata10.dat\u001b[m\u001b[m*\n",
            "-rwxr-xr-x  1 christophemorisset  staff       32 Aug 31  2016 \u001b[31mdata11.dat\u001b[m\u001b[m*\n",
            "-rwxr-xr-x  1 christophemorisset  staff       64 Sep 22  2016 \u001b[31mdata14.dat\u001b[m\u001b[m*\n",
            "-rwxr-xr-x  1 christophemorisset  staff      147 Aug 31  2016 \u001b[31mdata2.dat\u001b[m\u001b[m*\n",
            "-rwxr-xr-x  1 christophemorisset  staff      169 Aug 31  2016 \u001b[31mdata3.dat\u001b[m\u001b[m*\n",
            "-rwxr-xr-x  1 christophemorisset  staff     1189 Sep 28  2016 \u001b[31mdata4.dat\u001b[m\u001b[m*\n",
            "-rw-------  1 christophemorisset  staff     1185 Jun 28  2017 data5.dat\n",
            "-rwxr-xr-x  1 christophemorisset  staff     1186 Oct 18  2017 \u001b[31mdata6.dat\u001b[m\u001b[m*\n",
            "-rwxr-xr-x  1 christophemorisset  staff      136 Sep 14  2015 \u001b[31mdata_ex1.dat\u001b[m\u001b[m*\n",
            "-rwxr-xr-x  1 christophemorisset  staff      298 Nov  9  2016 \u001b[31mdcumsum.f\u001b[m\u001b[m*\n",
            "-rwxr-xr-x  1 christophemorisset  staff    30716 Nov  9  2016 \u001b[31mdcumsum.so\u001b[m\u001b[m*\n",
            "-rw-------  1 christophemorisset  staff     1379 Jun 15  2017 ex1.html\n",
            "-rw-------  1 christophemorisset  staff      154 Jun  1  2016 ex1.py\n",
            "-rw-------  1 christophemorisset  staff      288 Jun 29  2017 ex1.pyc\n",
            "-rwxr-xr-x  1 christophemorisset  staff        8 Sep 18  2014 \u001b[31mex1.txt\u001b[m\u001b[m*\n",
            "-rwxr-xr-x  1 christophemorisset  staff       69 Oct  4  2017 \u001b[31mfact.py\u001b[m\u001b[m*\n",
            "-rwxr-xr-x  1 christophemorisset  staff     4214 May 31  2016 \u001b[31mgrep.py\u001b[m\u001b[m*\n",
            "-rwxr-xr-x  1 christophemorisset  staff     4995 Nov 10  2015 \u001b[31mgrep2.py\u001b[m\u001b[m*\n",
            "-rwxr-xr-x  1 christophemorisset  staff     6319 Nov 10  2015 \u001b[31mgrep3.py\u001b[m\u001b[m*\n",
            "-rw-------  1 christophemorisset  staff     5575 Dec  9  2016 grep3.pyc\n",
            "-rwxr-xr-x  1 christophemorisset  staff       49 Oct  8  2014 \u001b[31mhello.py\u001b[m\u001b[m*\n",
            "-rwxr-xr-x  1 christophemorisset  staff     1090 Oct  8  2014 \u001b[31mhellofortran.c\u001b[m\u001b[m*\n",
            "-rwxr-xr-x  1 christophemorisset  staff      178 Oct  8  2014 \u001b[31mhellofortran.f\u001b[m\u001b[m*\n",
            "-rwxr-xr-x  1 christophemorisset  staff    33976 Oct  8  2014 \u001b[31mhellofortran.so\u001b[m\u001b[m*\n",
            "-rwxr-xr-x  1 christophemorisset  staff      150 Feb  3  2016 \u001b[31mindex.html\u001b[m\u001b[m*\n",
            "-rw-------  1 christophemorisset  staff  2479460 Jun 30  2017 intro_Matplotlib.ipynb\n",
            "-rw-------  1 christophemorisset  staff  1643810 Jun 30  2017 intro_Matplotlib.pdf\n",
            "-rwxr-xr-x  1 christophemorisset  staff   326924 Aug 28  2014 \u001b[31mintro_Python.html\u001b[m\u001b[m*\n",
            "-rw-------  1 christophemorisset  staff    77673 Jun 30  2017 intro_Python.ipynb\n",
            "-rw-------  1 christophemorisset  staff   143102 Jun 30  2017 intro_Python.pdf\n",
            "-rwxr-xr-x  1 christophemorisset  staff   179449 Aug 28  2014 \u001b[31mintro_Python_2.pdf\u001b[m\u001b[m*\n",
            "-rwxr-xr-x  1 christophemorisset  staff   103229 Aug 28  2014 \u001b[31mintro_Python_3.pdf\u001b[m\u001b[m*\n",
            "-rw-------  1 christophemorisset  staff   759052 Oct  3 17:31 intro_Scipy.ipynb\n",
            "-rw-------  1 christophemorisset  staff   570062 Jun 30  2017 intro_Scipy.pdf\n",
            "-rw-------  1 christophemorisset  staff    93510 Jun 30  2017 intro_numpy.ipynb\n",
            "-rw-------  1 christophemorisset  staff   148857 Jun 30  2017 intro_numpy.pdf\n",
            "-rwxr-xr-x  1 christophemorisset  staff  8830080 Sep  3  2014 \u001b[31mn10017o.fits\u001b[m\u001b[m*\n",
            "-rwxr-xr-x  1 christophemorisset  staff     5760 Aug 31  2016 \u001b[31mnew.fits\u001b[m\u001b[m*\n",
            "-rwxr-xr-x  1 christophemorisset  staff   435801 Jun  1  2016 \u001b[31mquery_res.dat\u001b[m\u001b[m*\n",
            "-rwxr-xr-x  1 christophemorisset  staff  1059840 Sep  3  2014 \u001b[31mswp04345.mxhi\u001b[m\u001b[m*\n",
            "-rw-------  1 christophemorisset  staff       47 Oct  4  2017 sys_text.py\n",
            "-rwxr-xr-x  1 christophemorisset  staff      353 Oct 18  2017 \u001b[31mtab1.dat\u001b[m\u001b[m*\n",
            "-rw-------  1 christophemorisset  staff      668 Jun 30  2017 tab_cds1.ascii\n",
            "-rwxr-xr-x  1 christophemorisset  staff    43200 Sep 25  2014 \u001b[31mtab_cds1.fits\u001b[m\u001b[m*\n",
            "-rw-------  1 christophemorisset  staff     1350 Jun 30  2017 tab_cds1.tex\n",
            "-rw-------  1 christophemorisset  staff     1826 Jun 30  2017 tab_cds2.ascii\n",
            "-rwxr-xr-x  1 christophemorisset  staff     7033 Nov  2  2015 \u001b[31mtest1.pdf\u001b[m\u001b[m*\n",
            "-rwxr-xr-x  1 christophemorisset  staff       72 Sep 27  2015 \u001b[31mtest1.test\u001b[m\u001b[m*\n",
            "-rwxr-xr-x  1 christophemorisset  staff       45 Sep 27  2015 \u001b[31mtest2.test\u001b[m\u001b[m*\n",
            "-rwxr-xr-x  1 christophemorisset  staff   176673 Oct 16  2014 \u001b[31mtest_1-po\u001b[m\u001b[m*\n",
            "-rwxr-xr-x@ 1 christophemorisset  staff   561026 Oct 26  2016 \u001b[31mtest_1-prof.png\u001b[m\u001b[m*\n",
            "-rw-------  1 christophemorisset  staff        0 Oct  4  2017 test_13_prof.py\n",
            "-rwxr-xr-x  1 christophemorisset  staff   353203 Oct 26  2016 \u001b[31mtest_1_prof.prof\u001b[m\u001b[m*\n",
            "-rwxr-xr-x  1 christophemorisset  staff     6805 Oct 26  2016 \u001b[31mtest_1_prof.py\u001b[m\u001b[m*\n",
            "-rwxr-xr-x  1 christophemorisset  staff     6833 Oct 26  2016 \u001b[31mtest_2_prof.py\u001b[m\u001b[m*\n",
            "-rwxr-xr-x  1 christophemorisset  staff      580 Oct 26  2016 \u001b[31mtest_2_prof.py.lprof\u001b[m\u001b[m*\n",
            "-rwxr-xr-x  1 christophemorisset  staff     6579 Oct 26  2016 \u001b[31mtest_3_prof.py\u001b[m\u001b[m*\n",
            "-rwxr-xr-x  1 christophemorisset  staff     6524 Oct 26  2016 \u001b[31mtest_5_pdb.py\u001b[m\u001b[m*\n",
            "-rwxr-xr-x  1 christophemorisset  staff     6444 Oct 26  2016 \u001b[31mtest_6_pdb.py\u001b[m\u001b[m*\n",
            "drwxr-xr-x@ 5 christophemorisset  staff      170 Nov 15  2016 \u001b[34mtt\u001b[m\u001b[m/\n"
          ],
          "name": "stdout"
        }
      ]
    },
    {
      "cell_type": "code",
      "metadata": {
        "jupyter": {
          "outputs_hidden": false
        },
        "id": "ofuFO3s3H7ys",
        "colab_type": "code",
        "colab": {},
        "outputId": "b58a225f-9176-4edd-ddc9-9adac4f94be9"
      },
      "source": [
        "subprocess.call(['ls -l'], shell=True)\n",
        "# The results is not visible in Notebook. In command line, the files are listed"
      ],
      "execution_count": null,
      "outputs": [
        {
          "output_type": "execute_result",
          "data": {
            "text/plain": [
              "0"
            ]
          },
          "metadata": {
            "tags": []
          },
          "execution_count": 3
        }
      ]
    },
    {
      "cell_type": "code",
      "metadata": {
        "jupyter": {
          "outputs_hidden": false
        },
        "id": "b5PXYqRSH7yu",
        "colab_type": "code",
        "colab": {},
        "outputId": "5d0c030b-e9dd-45c2-c89f-cd96d3ee3a58"
      },
      "source": [
        "output = subprocess.check_output(['ls', '-l'])\n",
        "print(type(output))\n",
        "print(output.decode())"
      ],
      "execution_count": null,
      "outputs": [
        {
          "output_type": "stream",
          "text": [
            "<class 'bytes'>\n",
            "total 74656\n",
            "-rwxr-xr-x  1 christophemorisset  staff    89353 Oct 26  2016 0040000_6.00_33_50_02_15.bin_0.1.gz\n",
            "-rw-------  1 christophemorisset  staff    85600 Jun 30  2017 0050000_6.00_33_50_02_15.bin_0.1.gz\n",
            "-rw-------  1 christophemorisset  staff    86018 Jun 30  2017 0050000_7.00_33_50_02_15.bin_0.1.gz\n",
            "-rw-------  1 christophemorisset  staff    86741 Jun 30  2017 0060000_6.00_33_50_02_15.bin_0.1.gz\n",
            "-rw-------  1 christophemorisset  staff    88843 Jun 30  2017 0070000_6.00_33_50_02_15.bin_0.1.gz\n",
            "-rw-------  1 christophemorisset  staff    89360 Jun 30  2017 0080000_6.00_33_50_02_15.bin_0.1.gz\n",
            "-rwxr-xr-x  1 christophemorisset  staff    89971 Oct 26  2016 0090000_6.00_33_50_02_15.bin_0.1.gz\n",
            "-rw-------  1 christophemorisset  staff    89722 Jun 30  2017 0100000_5.00_33_50_02_15.bin_0.1.gz\n",
            "-rwxr-xr-x  1 christophemorisset  staff    90544 Oct 26  2016 0100000_6.00_33_50_02_15.bin_0.1.gz\n",
            "-rw-------  1 christophemorisset  staff    91192 Jun 30  2017 0100000_7.00_33_50_02_15.bin_0.1.gz\n",
            "-rw-------  1 christophemorisset  staff    91475 Jun 30  2017 0100000_8.00_33_50_02_15.bin_0.1.gz\n",
            "-rw-------  1 christophemorisset  staff    90430 Jun 30  2017 0110000_6.00_33_50_02_15.bin_0.1.gz\n",
            "-rw-------  1 christophemorisset  staff    90960 Jun 30  2017 0110000_7.00_33_50_02_15.bin_0.1.gz\n",
            "-rw-------  1 christophemorisset  staff    89525 Jun 30  2017 0120000_6.00_33_50_02_15.bin_0.1.gz\n",
            "-rw-------  1 christophemorisset  staff    89899 Jun 30  2017 0130000_6.00_33_50_02_15.bin_0.1.gz\n",
            "-rwxr-xr-x  1 christophemorisset  staff    89170 Oct 26  2016 0140000_6.00_33_50_02_15.bin_0.1.gz\n",
            "-rw-------  1 christophemorisset  staff    89263 Jun 30  2017 0150000_6.00_33_50_02_15.bin_0.1.gz\n",
            "-rw-------  1 christophemorisset  staff    88929 Jun 30  2017 0160000_6.00_33_50_02_15.bin_0.1.gz\n",
            "-rw-------  1 christophemorisset  staff    88991 Jun 30  2017 0170000_6.00_33_50_02_15.bin_0.1.gz\n",
            "-rw-------  1 christophemorisset  staff    88780 Jun 30  2017 0180000_6.00_33_50_02_15.bin_0.1.gz\n",
            "-rw-------  1 christophemorisset  staff    89075 Jun 30  2017 0180000_7.00_33_50_02_15.bin_0.1.gz\n",
            "-rwxr-xr-x  1 christophemorisset  staff    88591 Oct 26  2016 0190000_6.00_33_50_02_15.bin_0.1.gz\n",
            "-rwxr-xr-x  1 christophemorisset  staff   466800 Sep 18  2015 BPT1.pdf\n",
            "-rwxr-xr-x  1 christophemorisset  staff    45181 Sep 18  2015 BPT1.png\n",
            "-rwxr-xr-x  1 christophemorisset  staff  4229587 Sep  9  2015 CALIFA_ah7.dat.gz\n",
            "-rwxr-xr-x  1 christophemorisset  staff    19376 Nov  9  2016 Calling Fortran.ipynb\n",
            "-rwxr-xr-x  1 christophemorisset  staff    86815 Jun  1  2016 Calling Fortran.pdf\n",
            "-rw-------  1 christophemorisset  staff      226 Jun 28  2017 Demo.pickle\n",
            "-rw-------  1 christophemorisset  staff      198 Jun 29  2017 Demo.pklz\n",
            "-rwxr-xr-x  1 christophemorisset  staff  2220144 Aug 31  2016 Demo2.pickle\n",
            "-rwxr-xr-x  1 christophemorisset  staff  2220109 Aug 31  2016 Demo3.pickle\n",
            "-rwxr-xr-x  1 christophemorisset  staff     7717 Sep  9  2015 Ex1.ipynb\n",
            "-rwxr-xr-x  1 christophemorisset  staff   381664 Sep 22  2015 Ex1_done.ipynb\n",
            "-rwxr-xr-x  1 christophemorisset  staff   315341 Sep 14  2015 Ex1_with_res.ipynb\n",
            "-rwxr-xr-x@ 1 christophemorisset  staff   352680 Oct 16  2015 Fig1.eps\n",
            "-rw-------  1 christophemorisset  staff   127137 Jun 29  2017 Fig1.pdf\n",
            "-rwxr-xr-x@ 1 christophemorisset  staff   838576 Aug 17  2016 InstallPython.key\n",
            "-rw-------  1 christophemorisset  staff     2113 Jun 30  2017 Interact with files.aux\n",
            "-rw-------  1 christophemorisset  staff   519777 Jun 30  2017 Interact with files.ipynb\n",
            "-rw-------  1 christophemorisset  staff    50000 Jun 30  2017 Interact with files.log\n",
            "-rw-------  1 christophemorisset  staff     1006 Jun 30  2017 Interact with files.out\n",
            "-rw-------  1 christophemorisset  staff   388118 Jun 30  2017 Interact with files.pdf\n",
            "-rw-------  1 christophemorisset  staff   101747 Jun 30  2017 Interact with files.tex\n",
            "drwxr-xr-x  6 christophemorisset  staff      204 Jun 30  2017 Interact with files_files\n",
            "-rwxr-xr-x  1 christophemorisset  staff   131497 Aug 12  2015 Intro_1.odp\n",
            "-rw-------  1 christophemorisset  staff   174202 Aug 12  2015 Intro_1.pdf\n",
            "-rwxr-xr-x  1 christophemorisset  staff   130234 Aug 12  2015 Intro_2014.odp\n",
            "-rw-r--r--  1 christophemorisset  staff   110524 Nov 22  2017 MySQL.pdf\n",
            "-rwxr-xr-x  1 christophemorisset  staff  1270918 Sep 21  2015 MySQL.pdf.gz\n",
            "-rw-------  1 christophemorisset  staff   707465 Jun 30  2017 OOP.ipynb\n",
            "-rw-------  1 christophemorisset  staff   568413 Jun 30  2017 OOP.pdf\n",
            "-rw-------  1 christophemorisset  staff   849205 Jun 30  2017 Optimization.ipynb\n",
            "-rwxr-xr-x  1 christophemorisset  staff   481656 Jun  5  2016 Optimization.pdf\n",
            "-rwxr-xr-x  1 christophemorisset  staff     2537 Nov  9  2016 Parallel.ipynb\n",
            "-rw-------  1 christophemorisset  staff     4252 Nov 23  2016 Tarea1.py\n",
            "-rw-------  1 christophemorisset  staff    57672 Oct 17 16:19 Useful_libraries.ipynb\n",
            "-rw-------  1 christophemorisset  staff   129908 Jun 30  2017 Useful_libraries.pdf\n",
            "-rwxr-xr-x  1 christophemorisset  staff   262324 Nov 22  2017 Using_PyMySQL.ipynb\n",
            "-rw-r--r--@ 1 christophemorisset  staff   221936 Nov 16  2016 Using_PyMySQL.pdf\n",
            "-rw-------  1 christophemorisset  staff   161715 Oct 19  2017 Using_astropy.ipynb\n",
            "-rw-------  1 christophemorisset  staff   206058 Jun 30  2017 Using_astropy.pdf\n",
            "drwxr-xr-x  3 christophemorisset  staff      102 Jun 29  2017 __pycache__\n",
            "-rwxr-xr-x  1 christophemorisset  staff       64 Aug 31  2016 data1.dat\n",
            "-rwxr-xr-x  1 christophemorisset  staff       14 Aug 31  2016 data10.dat\n",
            "-rwxr-xr-x  1 christophemorisset  staff       32 Aug 31  2016 data11.dat\n",
            "-rwxr-xr-x  1 christophemorisset  staff       64 Sep 22  2016 data14.dat\n",
            "-rwxr-xr-x  1 christophemorisset  staff      147 Aug 31  2016 data2.dat\n",
            "-rwxr-xr-x  1 christophemorisset  staff      169 Aug 31  2016 data3.dat\n",
            "-rwxr-xr-x  1 christophemorisset  staff     1189 Sep 28  2016 data4.dat\n",
            "-rw-------  1 christophemorisset  staff     1185 Jun 28  2017 data5.dat\n",
            "-rwxr-xr-x  1 christophemorisset  staff     1186 Oct 18  2017 data6.dat\n",
            "-rwxr-xr-x  1 christophemorisset  staff      136 Sep 14  2015 data_ex1.dat\n",
            "-rwxr-xr-x  1 christophemorisset  staff      298 Nov  9  2016 dcumsum.f\n",
            "-rwxr-xr-x  1 christophemorisset  staff    30716 Nov  9  2016 dcumsum.so\n",
            "-rw-------  1 christophemorisset  staff     1379 Jun 15  2017 ex1.html\n",
            "-rw-------  1 christophemorisset  staff      154 Jun  1  2016 ex1.py\n",
            "-rw-------  1 christophemorisset  staff      288 Jun 29  2017 ex1.pyc\n",
            "-rwxr-xr-x  1 christophemorisset  staff        8 Sep 18  2014 ex1.txt\n",
            "-rwxr-xr-x  1 christophemorisset  staff       69 Oct  4  2017 fact.py\n",
            "-rwxr-xr-x  1 christophemorisset  staff     4214 May 31  2016 grep.py\n",
            "-rwxr-xr-x  1 christophemorisset  staff     4995 Nov 10  2015 grep2.py\n",
            "-rwxr-xr-x  1 christophemorisset  staff     6319 Nov 10  2015 grep3.py\n",
            "-rw-------  1 christophemorisset  staff     5575 Dec  9  2016 grep3.pyc\n",
            "-rwxr-xr-x  1 christophemorisset  staff       49 Oct  8  2014 hello.py\n",
            "-rwxr-xr-x  1 christophemorisset  staff     1090 Oct  8  2014 hellofortran.c\n",
            "-rwxr-xr-x  1 christophemorisset  staff      178 Oct  8  2014 hellofortran.f\n",
            "-rwxr-xr-x  1 christophemorisset  staff    33976 Oct  8  2014 hellofortran.so\n",
            "-rwxr-xr-x  1 christophemorisset  staff      150 Feb  3  2016 index.html\n",
            "-rw-------  1 christophemorisset  staff  2479460 Jun 30  2017 intro_Matplotlib.ipynb\n",
            "-rw-------  1 christophemorisset  staff  1643810 Jun 30  2017 intro_Matplotlib.pdf\n",
            "-rwxr-xr-x  1 christophemorisset  staff   326924 Aug 28  2014 intro_Python.html\n",
            "-rw-------  1 christophemorisset  staff    77673 Jun 30  2017 intro_Python.ipynb\n",
            "-rw-------  1 christophemorisset  staff   143102 Jun 30  2017 intro_Python.pdf\n",
            "-rwxr-xr-x  1 christophemorisset  staff   179449 Aug 28  2014 intro_Python_2.pdf\n",
            "-rwxr-xr-x  1 christophemorisset  staff   103229 Aug 28  2014 intro_Python_3.pdf\n",
            "-rw-------  1 christophemorisset  staff   759052 Oct  3 17:31 intro_Scipy.ipynb\n",
            "-rw-------  1 christophemorisset  staff   570062 Jun 30  2017 intro_Scipy.pdf\n",
            "-rw-------  1 christophemorisset  staff    93510 Jun 30  2017 intro_numpy.ipynb\n",
            "-rw-------  1 christophemorisset  staff   148857 Jun 30  2017 intro_numpy.pdf\n",
            "-rwxr-xr-x  1 christophemorisset  staff  8830080 Sep  3  2014 n10017o.fits\n",
            "-rwxr-xr-x  1 christophemorisset  staff     5760 Aug 31  2016 new.fits\n",
            "-rwxr-xr-x  1 christophemorisset  staff   435801 Jun  1  2016 query_res.dat\n",
            "-rwxr-xr-x  1 christophemorisset  staff  1059840 Sep  3  2014 swp04345.mxhi\n",
            "-rw-------  1 christophemorisset  staff       47 Oct  4  2017 sys_text.py\n",
            "-rwxr-xr-x  1 christophemorisset  staff      353 Oct 18  2017 tab1.dat\n",
            "-rw-------  1 christophemorisset  staff      668 Jun 30  2017 tab_cds1.ascii\n",
            "-rwxr-xr-x  1 christophemorisset  staff    43200 Sep 25  2014 tab_cds1.fits\n",
            "-rw-------  1 christophemorisset  staff     1350 Jun 30  2017 tab_cds1.tex\n",
            "-rw-------  1 christophemorisset  staff     1826 Jun 30  2017 tab_cds2.ascii\n",
            "-rwxr-xr-x  1 christophemorisset  staff     7033 Nov  2  2015 test1.pdf\n",
            "-rwxr-xr-x  1 christophemorisset  staff       72 Sep 27  2015 test1.test\n",
            "-rwxr-xr-x  1 christophemorisset  staff       45 Sep 27  2015 test2.test\n",
            "-rwxr-xr-x  1 christophemorisset  staff   176673 Oct 16  2014 test_1-po\n",
            "-rwxr-xr-x@ 1 christophemorisset  staff   561026 Oct 26  2016 test_1-prof.png\n",
            "-rw-------  1 christophemorisset  staff        0 Oct  4  2017 test_13_prof.py\n",
            "-rwxr-xr-x  1 christophemorisset  staff   353203 Oct 26  2016 test_1_prof.prof\n",
            "-rwxr-xr-x  1 christophemorisset  staff     6805 Oct 26  2016 test_1_prof.py\n",
            "-rwxr-xr-x  1 christophemorisset  staff     6833 Oct 26  2016 test_2_prof.py\n",
            "-rwxr-xr-x  1 christophemorisset  staff      580 Oct 26  2016 test_2_prof.py.lprof\n",
            "-rwxr-xr-x  1 christophemorisset  staff     6579 Oct 26  2016 test_3_prof.py\n",
            "-rwxr-xr-x  1 christophemorisset  staff     6524 Oct 26  2016 test_5_pdb.py\n",
            "-rwxr-xr-x  1 christophemorisset  staff     6444 Oct 26  2016 test_6_pdb.py\n",
            "drwxr-xr-x@ 5 christophemorisset  staff      170 Nov 15  2016 tt\n",
            "\n"
          ],
          "name": "stdout"
        }
      ]
    },
    {
      "cell_type": "code",
      "metadata": {
        "jupyter": {
          "outputs_hidden": false
        },
        "id": "jYxGkVsLH7yw",
        "colab_type": "code",
        "colab": {},
        "outputId": "eadd8160-315e-419f-ca83-6a97e8d120d9"
      },
      "source": [
        "command = 'ls -l'\n",
        "popen = subprocess.Popen(command, shell=True)\n",
        "# The same apply here, no output in Notebook\n",
        "print(popen)"
      ],
      "execution_count": null,
      "outputs": [
        {
          "output_type": "stream",
          "text": [
            "<subprocess.Popen object at 0x103a5d2e8>\n"
          ],
          "name": "stdout"
        }
      ]
    },
    {
      "cell_type": "code",
      "metadata": {
        "jupyter": {
          "outputs_hidden": false
        },
        "id": "jN9M7W9AH7yy",
        "colab_type": "code",
        "colab": {},
        "outputId": "97e91519-3f59-4188-9bff-82ca2a4593f6"
      },
      "source": [
        "popen = subprocess.Popen(command, stdout=subprocess.PIPE, shell=True)\n",
        "res = popen.communicate()[0]\n",
        "print(type(res))\n",
        "print(res.decode())"
      ],
      "execution_count": null,
      "outputs": [
        {
          "output_type": "stream",
          "text": [
            "<class 'bytes'>\n",
            "total 74656\n",
            "-rwxr-xr-x  1 christophemorisset  staff    89353 Oct 26  2016 0040000_6.00_33_50_02_15.bin_0.1.gz\n",
            "-rw-------  1 christophemorisset  staff    85600 Jun 30  2017 0050000_6.00_33_50_02_15.bin_0.1.gz\n",
            "-rw-------  1 christophemorisset  staff    86018 Jun 30  2017 0050000_7.00_33_50_02_15.bin_0.1.gz\n",
            "-rw-------  1 christophemorisset  staff    86741 Jun 30  2017 0060000_6.00_33_50_02_15.bin_0.1.gz\n",
            "-rw-------  1 christophemorisset  staff    88843 Jun 30  2017 0070000_6.00_33_50_02_15.bin_0.1.gz\n",
            "-rw-------  1 christophemorisset  staff    89360 Jun 30  2017 0080000_6.00_33_50_02_15.bin_0.1.gz\n",
            "-rwxr-xr-x  1 christophemorisset  staff    89971 Oct 26  2016 0090000_6.00_33_50_02_15.bin_0.1.gz\n",
            "-rw-------  1 christophemorisset  staff    89722 Jun 30  2017 0100000_5.00_33_50_02_15.bin_0.1.gz\n",
            "-rwxr-xr-x  1 christophemorisset  staff    90544 Oct 26  2016 0100000_6.00_33_50_02_15.bin_0.1.gz\n",
            "-rw-------  1 christophemorisset  staff    91192 Jun 30  2017 0100000_7.00_33_50_02_15.bin_0.1.gz\n",
            "-rw-------  1 christophemorisset  staff    91475 Jun 30  2017 0100000_8.00_33_50_02_15.bin_0.1.gz\n",
            "-rw-------  1 christophemorisset  staff    90430 Jun 30  2017 0110000_6.00_33_50_02_15.bin_0.1.gz\n",
            "-rw-------  1 christophemorisset  staff    90960 Jun 30  2017 0110000_7.00_33_50_02_15.bin_0.1.gz\n",
            "-rw-------  1 christophemorisset  staff    89525 Jun 30  2017 0120000_6.00_33_50_02_15.bin_0.1.gz\n",
            "-rw-------  1 christophemorisset  staff    89899 Jun 30  2017 0130000_6.00_33_50_02_15.bin_0.1.gz\n",
            "-rwxr-xr-x  1 christophemorisset  staff    89170 Oct 26  2016 0140000_6.00_33_50_02_15.bin_0.1.gz\n",
            "-rw-------  1 christophemorisset  staff    89263 Jun 30  2017 0150000_6.00_33_50_02_15.bin_0.1.gz\n",
            "-rw-------  1 christophemorisset  staff    88929 Jun 30  2017 0160000_6.00_33_50_02_15.bin_0.1.gz\n",
            "-rw-------  1 christophemorisset  staff    88991 Jun 30  2017 0170000_6.00_33_50_02_15.bin_0.1.gz\n",
            "-rw-------  1 christophemorisset  staff    88780 Jun 30  2017 0180000_6.00_33_50_02_15.bin_0.1.gz\n",
            "-rw-------  1 christophemorisset  staff    89075 Jun 30  2017 0180000_7.00_33_50_02_15.bin_0.1.gz\n",
            "-rwxr-xr-x  1 christophemorisset  staff    88591 Oct 26  2016 0190000_6.00_33_50_02_15.bin_0.1.gz\n",
            "-rwxr-xr-x  1 christophemorisset  staff   466800 Sep 18  2015 BPT1.pdf\n",
            "-rwxr-xr-x  1 christophemorisset  staff    45181 Sep 18  2015 BPT1.png\n",
            "-rwxr-xr-x  1 christophemorisset  staff  4229587 Sep  9  2015 CALIFA_ah7.dat.gz\n",
            "-rwxr-xr-x  1 christophemorisset  staff    19376 Nov  9  2016 Calling Fortran.ipynb\n",
            "-rwxr-xr-x  1 christophemorisset  staff    86815 Jun  1  2016 Calling Fortran.pdf\n",
            "-rw-------  1 christophemorisset  staff      226 Jun 28  2017 Demo.pickle\n",
            "-rw-------  1 christophemorisset  staff      198 Jun 29  2017 Demo.pklz\n",
            "-rwxr-xr-x  1 christophemorisset  staff  2220144 Aug 31  2016 Demo2.pickle\n",
            "-rwxr-xr-x  1 christophemorisset  staff  2220109 Aug 31  2016 Demo3.pickle\n",
            "-rwxr-xr-x  1 christophemorisset  staff     7717 Sep  9  2015 Ex1.ipynb\n",
            "-rwxr-xr-x  1 christophemorisset  staff   381664 Sep 22  2015 Ex1_done.ipynb\n",
            "-rwxr-xr-x  1 christophemorisset  staff   315341 Sep 14  2015 Ex1_with_res.ipynb\n",
            "-rwxr-xr-x@ 1 christophemorisset  staff   352680 Oct 16  2015 Fig1.eps\n",
            "-rw-------  1 christophemorisset  staff   127137 Jun 29  2017 Fig1.pdf\n",
            "-rwxr-xr-x@ 1 christophemorisset  staff   838576 Aug 17  2016 InstallPython.key\n",
            "-rw-------  1 christophemorisset  staff     2113 Jun 30  2017 Interact with files.aux\n",
            "-rw-------  1 christophemorisset  staff   519777 Jun 30  2017 Interact with files.ipynb\n",
            "-rw-------  1 christophemorisset  staff    50000 Jun 30  2017 Interact with files.log\n",
            "-rw-------  1 christophemorisset  staff     1006 Jun 30  2017 Interact with files.out\n",
            "-rw-------  1 christophemorisset  staff   388118 Jun 30  2017 Interact with files.pdf\n",
            "-rw-------  1 christophemorisset  staff   101747 Jun 30  2017 Interact with files.tex\n",
            "drwxr-xr-x  6 christophemorisset  staff      204 Jun 30  2017 Interact with files_files\n",
            "-rwxr-xr-x  1 christophemorisset  staff   131497 Aug 12  2015 Intro_1.odp\n",
            "-rw-------  1 christophemorisset  staff   174202 Aug 12  2015 Intro_1.pdf\n",
            "-rwxr-xr-x  1 christophemorisset  staff   130234 Aug 12  2015 Intro_2014.odp\n",
            "-rw-r--r--  1 christophemorisset  staff   110524 Nov 22  2017 MySQL.pdf\n",
            "-rwxr-xr-x  1 christophemorisset  staff  1270918 Sep 21  2015 MySQL.pdf.gz\n",
            "-rw-------  1 christophemorisset  staff   707465 Jun 30  2017 OOP.ipynb\n",
            "-rw-------  1 christophemorisset  staff   568413 Jun 30  2017 OOP.pdf\n",
            "-rw-------  1 christophemorisset  staff   849205 Jun 30  2017 Optimization.ipynb\n",
            "-rwxr-xr-x  1 christophemorisset  staff   481656 Jun  5  2016 Optimization.pdf\n",
            "-rwxr-xr-x  1 christophemorisset  staff     2537 Nov  9  2016 Parallel.ipynb\n",
            "-rw-------  1 christophemorisset  staff     4252 Nov 23  2016 Tarea1.py\n",
            "-rw-------  1 christophemorisset  staff    57759 Oct 17 16:21 Useful_libraries.ipynb\n",
            "-rw-------  1 christophemorisset  staff   129908 Jun 30  2017 Useful_libraries.pdf\n",
            "-rwxr-xr-x  1 christophemorisset  staff   262324 Nov 22  2017 Using_PyMySQL.ipynb\n",
            "-rw-r--r--@ 1 christophemorisset  staff   221936 Nov 16  2016 Using_PyMySQL.pdf\n",
            "-rw-------  1 christophemorisset  staff   161715 Oct 19  2017 Using_astropy.ipynb\n",
            "-rw-------  1 christophemorisset  staff   206058 Jun 30  2017 Using_astropy.pdf\n",
            "drwxr-xr-x  3 christophemorisset  staff      102 Jun 29  2017 __pycache__\n",
            "-rwxr-xr-x  1 christophemorisset  staff       64 Aug 31  2016 data1.dat\n",
            "-rwxr-xr-x  1 christophemorisset  staff       14 Aug 31  2016 data10.dat\n",
            "-rwxr-xr-x  1 christophemorisset  staff       32 Aug 31  2016 data11.dat\n",
            "-rwxr-xr-x  1 christophemorisset  staff       64 Sep 22  2016 data14.dat\n",
            "-rwxr-xr-x  1 christophemorisset  staff      147 Aug 31  2016 data2.dat\n",
            "-rwxr-xr-x  1 christophemorisset  staff      169 Aug 31  2016 data3.dat\n",
            "-rwxr-xr-x  1 christophemorisset  staff     1189 Sep 28  2016 data4.dat\n",
            "-rw-------  1 christophemorisset  staff     1185 Jun 28  2017 data5.dat\n",
            "-rwxr-xr-x  1 christophemorisset  staff     1186 Oct 18  2017 data6.dat\n",
            "-rwxr-xr-x  1 christophemorisset  staff      136 Sep 14  2015 data_ex1.dat\n",
            "-rwxr-xr-x  1 christophemorisset  staff      298 Nov  9  2016 dcumsum.f\n",
            "-rwxr-xr-x  1 christophemorisset  staff    30716 Nov  9  2016 dcumsum.so\n",
            "-rw-------  1 christophemorisset  staff     1379 Jun 15  2017 ex1.html\n",
            "-rw-------  1 christophemorisset  staff      154 Jun  1  2016 ex1.py\n",
            "-rw-------  1 christophemorisset  staff      288 Jun 29  2017 ex1.pyc\n",
            "-rwxr-xr-x  1 christophemorisset  staff        8 Sep 18  2014 ex1.txt\n",
            "-rwxr-xr-x  1 christophemorisset  staff       69 Oct  4  2017 fact.py\n",
            "-rwxr-xr-x  1 christophemorisset  staff     4214 May 31  2016 grep.py\n",
            "-rwxr-xr-x  1 christophemorisset  staff     4995 Nov 10  2015 grep2.py\n",
            "-rwxr-xr-x  1 christophemorisset  staff     6319 Nov 10  2015 grep3.py\n",
            "-rw-------  1 christophemorisset  staff     5575 Dec  9  2016 grep3.pyc\n",
            "-rwxr-xr-x  1 christophemorisset  staff       49 Oct  8  2014 hello.py\n",
            "-rwxr-xr-x  1 christophemorisset  staff     1090 Oct  8  2014 hellofortran.c\n",
            "-rwxr-xr-x  1 christophemorisset  staff      178 Oct  8  2014 hellofortran.f\n",
            "-rwxr-xr-x  1 christophemorisset  staff    33976 Oct  8  2014 hellofortran.so\n",
            "-rwxr-xr-x  1 christophemorisset  staff      150 Feb  3  2016 index.html\n",
            "-rw-------  1 christophemorisset  staff  2479460 Jun 30  2017 intro_Matplotlib.ipynb\n",
            "-rw-------  1 christophemorisset  staff  1643810 Jun 30  2017 intro_Matplotlib.pdf\n",
            "-rwxr-xr-x  1 christophemorisset  staff   326924 Aug 28  2014 intro_Python.html\n",
            "-rw-------  1 christophemorisset  staff    77673 Jun 30  2017 intro_Python.ipynb\n",
            "-rw-------  1 christophemorisset  staff   143102 Jun 30  2017 intro_Python.pdf\n",
            "-rwxr-xr-x  1 christophemorisset  staff   179449 Aug 28  2014 intro_Python_2.pdf\n",
            "-rwxr-xr-x  1 christophemorisset  staff   103229 Aug 28  2014 intro_Python_3.pdf\n",
            "-rw-------  1 christophemorisset  staff   759052 Oct  3 17:31 intro_Scipy.ipynb\n",
            "-rw-------  1 christophemorisset  staff   570062 Jun 30  2017 intro_Scipy.pdf\n",
            "-rw-------  1 christophemorisset  staff    93510 Jun 30  2017 intro_numpy.ipynb\n",
            "-rw-------  1 christophemorisset  staff   148857 Jun 30  2017 intro_numpy.pdf\n",
            "-rwxr-xr-x  1 christophemorisset  staff  8830080 Sep  3  2014 n10017o.fits\n",
            "-rwxr-xr-x  1 christophemorisset  staff     5760 Aug 31  2016 new.fits\n",
            "-rwxr-xr-x  1 christophemorisset  staff   435801 Jun  1  2016 query_res.dat\n",
            "-rwxr-xr-x  1 christophemorisset  staff  1059840 Sep  3  2014 swp04345.mxhi\n",
            "-rw-------  1 christophemorisset  staff       47 Oct  4  2017 sys_text.py\n",
            "-rwxr-xr-x  1 christophemorisset  staff      353 Oct 18  2017 tab1.dat\n",
            "-rw-------  1 christophemorisset  staff      668 Jun 30  2017 tab_cds1.ascii\n",
            "-rwxr-xr-x  1 christophemorisset  staff    43200 Sep 25  2014 tab_cds1.fits\n",
            "-rw-------  1 christophemorisset  staff     1350 Jun 30  2017 tab_cds1.tex\n",
            "-rw-------  1 christophemorisset  staff     1826 Jun 30  2017 tab_cds2.ascii\n",
            "-rwxr-xr-x  1 christophemorisset  staff     7033 Nov  2  2015 test1.pdf\n",
            "-rwxr-xr-x  1 christophemorisset  staff       72 Sep 27  2015 test1.test\n",
            "-rwxr-xr-x  1 christophemorisset  staff       45 Sep 27  2015 test2.test\n",
            "-rwxr-xr-x  1 christophemorisset  staff   176673 Oct 16  2014 test_1-po\n",
            "-rwxr-xr-x@ 1 christophemorisset  staff   561026 Oct 26  2016 test_1-prof.png\n",
            "-rw-------  1 christophemorisset  staff        0 Oct  4  2017 test_13_prof.py\n",
            "-rwxr-xr-x  1 christophemorisset  staff   353203 Oct 26  2016 test_1_prof.prof\n",
            "-rwxr-xr-x  1 christophemorisset  staff     6805 Oct 26  2016 test_1_prof.py\n",
            "-rwxr-xr-x  1 christophemorisset  staff     6833 Oct 26  2016 test_2_prof.py\n",
            "-rwxr-xr-x  1 christophemorisset  staff      580 Oct 26  2016 test_2_prof.py.lprof\n",
            "-rwxr-xr-x  1 christophemorisset  staff     6579 Oct 26  2016 test_3_prof.py\n",
            "-rwxr-xr-x  1 christophemorisset  staff     6524 Oct 26  2016 test_5_pdb.py\n",
            "-rwxr-xr-x  1 christophemorisset  staff     6444 Oct 26  2016 test_6_pdb.py\n",
            "drwxr-xr-x@ 5 christophemorisset  staff      170 Nov 15  2016 tt\n",
            "\n"
          ],
          "name": "stdout"
        }
      ]
    },
    {
      "cell_type": "code",
      "metadata": {
        "jupyter": {
          "outputs_hidden": false
        },
        "id": "PTND8VhiH7y0",
        "colab_type": "code",
        "colab": {},
        "outputId": "84b40adc-4574-4be3-c8bf-19eb15961e1e"
      },
      "source": [
        "popen = subprocess.Popen(command, stdout=subprocess.PIPE, shell=True)\n",
        "for line in iter(popen.stdout.readline, \"\"):\n",
        "    lspl = line.split()\n",
        "    if len(lspl)> 4:\n",
        "        if int(lspl[4]) > 1000000:\n",
        "            print(lspl[8])"
      ],
      "execution_count": null,
      "outputs": [
        {
          "output_type": "stream",
          "text": [
            "b'CALIFA_ah7.dat.gz'\n",
            "b'Demo2.pickle'\n",
            "b'Demo3.pickle'\n",
            "b'MySQL.pdf.gz'\n",
            "b'intro_Matplotlib.ipynb'\n",
            "b'intro_Matplotlib.pdf'\n",
            "b'n10017o.fits'\n",
            "b'swp04345.mxhi'\n"
          ],
          "name": "stdout"
        },
        {
          "output_type": "error",
          "ename": "KeyboardInterrupt",
          "evalue": "",
          "traceback": [
            "\u001b[0;31m---------------------------------------------------------------------------\u001b[0m",
            "\u001b[0;31mKeyboardInterrupt\u001b[0m                         Traceback (most recent call last)",
            "\u001b[0;32m<ipython-input-8-2eb0e8604ca5>\u001b[0m in \u001b[0;36m<module>\u001b[0;34m()\u001b[0m\n\u001b[1;32m      1\u001b[0m \u001b[0mpopen\u001b[0m \u001b[0;34m=\u001b[0m \u001b[0msubprocess\u001b[0m\u001b[0;34m.\u001b[0m\u001b[0mPopen\u001b[0m\u001b[0;34m(\u001b[0m\u001b[0mcommand\u001b[0m\u001b[0;34m,\u001b[0m \u001b[0mstdout\u001b[0m\u001b[0;34m=\u001b[0m\u001b[0msubprocess\u001b[0m\u001b[0;34m.\u001b[0m\u001b[0mPIPE\u001b[0m\u001b[0;34m,\u001b[0m \u001b[0mshell\u001b[0m\u001b[0;34m=\u001b[0m\u001b[0;32mTrue\u001b[0m\u001b[0;34m)\u001b[0m\u001b[0;34m\u001b[0m\u001b[0m\n\u001b[1;32m      2\u001b[0m \u001b[0;32mfor\u001b[0m \u001b[0mline\u001b[0m \u001b[0;32min\u001b[0m \u001b[0miter\u001b[0m\u001b[0;34m(\u001b[0m\u001b[0mpopen\u001b[0m\u001b[0;34m.\u001b[0m\u001b[0mstdout\u001b[0m\u001b[0;34m.\u001b[0m\u001b[0mreadline\u001b[0m\u001b[0;34m,\u001b[0m \u001b[0;34m\"\"\u001b[0m\u001b[0;34m)\u001b[0m\u001b[0;34m:\u001b[0m\u001b[0;34m\u001b[0m\u001b[0m\n\u001b[0;32m----> 3\u001b[0;31m     \u001b[0mlspl\u001b[0m \u001b[0;34m=\u001b[0m \u001b[0mline\u001b[0m\u001b[0;34m.\u001b[0m\u001b[0msplit\u001b[0m\u001b[0;34m(\u001b[0m\u001b[0;34m)\u001b[0m\u001b[0;34m\u001b[0m\u001b[0m\n\u001b[0m\u001b[1;32m      4\u001b[0m     \u001b[0;32mif\u001b[0m \u001b[0mlen\u001b[0m\u001b[0;34m(\u001b[0m\u001b[0mlspl\u001b[0m\u001b[0;34m)\u001b[0m\u001b[0;34m>\u001b[0m \u001b[0;36m4\u001b[0m\u001b[0;34m:\u001b[0m\u001b[0;34m\u001b[0m\u001b[0m\n\u001b[1;32m      5\u001b[0m         \u001b[0;32mif\u001b[0m \u001b[0mint\u001b[0m\u001b[0;34m(\u001b[0m\u001b[0mlspl\u001b[0m\u001b[0;34m[\u001b[0m\u001b[0;36m4\u001b[0m\u001b[0;34m]\u001b[0m\u001b[0;34m)\u001b[0m \u001b[0;34m>\u001b[0m \u001b[0;36m1000000\u001b[0m\u001b[0;34m:\u001b[0m\u001b[0;34m\u001b[0m\u001b[0m\n",
            "\u001b[0;31mKeyboardInterrupt\u001b[0m: "
          ]
        }
      ]
    },
    {
      "cell_type": "markdown",
      "metadata": {
        "id": "MXvE3YCBH7y2",
        "colab_type": "text"
      },
      "source": [
        "### re"
      ]
    },
    {
      "cell_type": "markdown",
      "metadata": {
        "id": "_Oc5EkqJH7y2",
        "colab_type": "text"
      },
      "source": [
        "The re module provides regular expression tools for advanced string processing. For complex matching and manipulation, regular expressions offer succinct, optimized solutions:"
      ]
    },
    {
      "cell_type": "code",
      "metadata": {
        "jupyter": {
          "outputs_hidden": false
        },
        "id": "nTGpCPekH7y2",
        "colab_type": "code",
        "colab": {},
        "outputId": "96cea95e-204b-4663-ae7c-2ba415163ba8"
      },
      "source": [
        "import re\n",
        "# Search the words starting with \"f\"\n",
        "re.findall(r'\\bf[a-z]*', 'whifch foOt or hand fell fastest')"
      ],
      "execution_count": null,
      "outputs": [
        {
          "output_type": "execute_result",
          "data": {
            "text/plain": [
              "['fo', 'fell', 'fastest']"
            ]
          },
          "metadata": {
            "tags": []
          },
          "execution_count": 1
        }
      ]
    },
    {
      "cell_type": "code",
      "metadata": {
        "jupyter": {
          "outputs_hidden": false
        },
        "id": "z1ffiZhsH7y4",
        "colab_type": "code",
        "colab": {},
        "outputId": "bab4ee56-6956-4173-86cf-6d212fa85ce4"
      },
      "source": [
        "# Remove duplicate words\n",
        "re.sub(r'(\\b[a-z]+) \\1', r'\\1', 'cat in the the hat')"
      ],
      "execution_count": null,
      "outputs": [
        {
          "output_type": "execute_result",
          "data": {
            "text/plain": [
              "'cat in the hat'"
            ]
          },
          "metadata": {
            "tags": []
          },
          "execution_count": 32
        }
      ]
    },
    {
      "cell_type": "markdown",
      "metadata": {
        "id": "38FF2lkBH7y5",
        "colab_type": "text"
      },
      "source": [
        "More in https://docs.python.org/2/library/re.html"
      ]
    },
    {
      "cell_type": "markdown",
      "metadata": {
        "id": "cSgSOI7KH7y5",
        "colab_type": "text"
      },
      "source": [
        "### urllib2"
      ]
    },
    {
      "cell_type": "code",
      "metadata": {
        "jupyter": {
          "outputs_hidden": false
        },
        "id": "gdyqReWHH7y6",
        "colab_type": "code",
        "colab": {}
      },
      "source": [
        "# from urllib2 import urlopen # python 2\n",
        "from urllib.request import urlopen"
      ],
      "execution_count": null,
      "outputs": []
    },
    {
      "cell_type": "code",
      "metadata": {
        "jupyter": {
          "outputs_hidden": false
        },
        "id": "QfNtvQZGH7y8",
        "colab_type": "code",
        "colab": {},
        "outputId": "d640ca9a-3a02-4027-e49a-76bc21515d72"
      },
      "source": [
        "for line in urlopen('http://dev.on-rev.com/myip.irev'):\n",
        "    print(line)\n",
        "    if 'IP' in str(line):\n",
        "        IP = str(line).split(':')[1][:-7]\n",
        "print('-------')\n",
        "print(IP)"
      ],
      "execution_count": null,
      "outputs": [
        {
          "output_type": "stream",
          "text": [
            "b'<html>\\n'\n",
            "b'<body>\\n'\n",
            "b'<p>\\n'\n",
            "b'Remote IP Address:132.248.3.201</p>\\n'\n",
            "b'</body>\\n'\n",
            "b'</html>'\n",
            "-------\n",
            "132.248.3.201\n"
          ],
          "name": "stdout"
        }
      ]
    }
  ]
}