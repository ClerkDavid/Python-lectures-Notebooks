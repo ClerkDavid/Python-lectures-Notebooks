{
  "nbformat": 4,
  "nbformat_minor": 0,
  "metadata": {
    "kernelspec": {
      "display_name": "Python 3",
      "language": "python",
      "name": "python3"
    },
    "language_info": {
      "codemirror_mode": {
        "name": "ipython",
        "version": 3
      },
      "file_extension": ".py",
      "mimetype": "text/x-python",
      "name": "python",
      "nbconvert_exporter": "python",
      "pygments_lexer": "ipython3",
      "version": "3.7.6"
    },
    "colab": {
      "name": "Useful_libraries.ipynb",
      "provenance": []
    }
  },
  "cells": [
    {
      "cell_type": "code",
      "metadata": {
        "jupyter": {
          "outputs_hidden": false
        },
        "id": "32L86GWVH7xT",
        "colab_type": "code",
        "colab": {
          "base_uri": "https://localhost:8080/",
          "height": 68
        },
        "outputId": "75144bd1-f475-47c5-9717-d8dfc69ba867"
      },
      "source": [
        "# The following is to know when this notebook has been run and with which python version.\n",
        "import time, sys\n",
        "print(time.ctime())\n",
        "print(sys.version.split('|')[0])"
      ],
      "execution_count": 1,
      "outputs": [
        {
          "output_type": "stream",
          "text": [
            "Mon Sep 21 14:50:35 2020\n",
            "3.6.9 (default, Jul 17 2020, 12:50:27) \n",
            "[GCC 8.4.0]\n"
          ],
          "name": "stdout"
        }
      ]
    },
    {
      "cell_type": "code",
      "metadata": {
        "jupyter": {
          "outputs_hidden": false
        },
        "id": "Ok2reGgrH7xX",
        "colab_type": "code",
        "colab": {}
      },
      "source": [
        "import numpy as np"
      ],
      "execution_count": 2,
      "outputs": []
    },
    {
      "cell_type": "markdown",
      "metadata": {
        "id": "LT0khpzjH7xb",
        "colab_type": "text"
      },
      "source": [
        "# F Some useful libraries that make life easier"
      ]
    },
    {
      "cell_type": "markdown",
      "metadata": {
        "id": "MNiJIN0eH7xb",
        "colab_type": "text"
      },
      "source": [
        "This is part of the Python lecture given by Christophe Morisset at IA-UNAM."
      ]
    },
    {
      "cell_type": "markdown",
      "metadata": {
        "id": "nW9XV2pgH7xc",
        "colab_type": "text"
      },
      "source": [
        "This lecture will give some insights to the most useful python libraries. It is NOT exhaustive, you have to read the corresponding manual pages to find the best use you can have of them. The list of all python-included libraries is here: https://docs.python.org/2/library/"
      ]
    },
    {
      "cell_type": "markdown",
      "metadata": {
        "id": "8gr3DHdrH7xc",
        "colab_type": "text"
      },
      "source": [
        "### time, datetime and timeit"
      ]
    },
    {
      "cell_type": "markdown",
      "metadata": {
        "id": "1uk9swL3H7xd",
        "colab_type": "text"
      },
      "source": [
        "*  https://docs.python.org/2/library/time.html\n",
        "*  https://docs.python.org/2/library/datetime.html"
      ]
    },
    {
      "cell_type": "code",
      "metadata": {
        "jupyter": {
          "outputs_hidden": false
        },
        "id": "ZvXi9pc6H7xd",
        "colab_type": "code",
        "colab": {}
      },
      "source": [
        "import time\n",
        "import datetime"
      ],
      "execution_count": 3,
      "outputs": []
    },
    {
      "cell_type": "code",
      "metadata": {
        "jupyter": {
          "outputs_hidden": false
        },
        "id": "lU1GfjWQH7xg",
        "colab_type": "code",
        "colab": {
          "base_uri": "https://localhost:8080/",
          "height": 34
        },
        "outputId": "ee865dfa-bf31-4e69-d7be-d1bdbd177c6d"
      },
      "source": [
        "print(time.ctime()) # current time, in a string format"
      ],
      "execution_count": 4,
      "outputs": [
        {
          "output_type": "stream",
          "text": [
            "Mon Sep 21 14:50:35 2020\n"
          ],
          "name": "stdout"
        }
      ]
    },
    {
      "cell_type": "code",
      "metadata": {
        "jupyter": {
          "outputs_hidden": false
        },
        "id": "TP9z7JIrH7xj",
        "colab_type": "code",
        "colab": {
          "base_uri": "https://localhost:8080/",
          "height": 34
        },
        "outputId": "48cf2b0e-921c-471e-ace3-c068b6effd23"
      },
      "source": [
        "lt = time.localtime()\n",
        "print(lt)"
      ],
      "execution_count": 5,
      "outputs": [
        {
          "output_type": "stream",
          "text": [
            "time.struct_time(tm_year=2020, tm_mon=9, tm_mday=21, tm_hour=14, tm_min=50, tm_sec=35, tm_wday=0, tm_yday=265, tm_isdst=0)\n"
          ],
          "name": "stdout"
        }
      ]
    },
    {
      "cell_type": "code",
      "metadata": {
        "jupyter": {
          "outputs_hidden": false
        },
        "id": "d9TfFezSH7xm",
        "colab_type": "code",
        "colab": {
          "base_uri": "https://localhost:8080/",
          "height": 35
        },
        "outputId": "155e4095-f8bc-41af-dfdb-bee55517e1da"
      },
      "source": [
        "time.strftime(\"%a, %d %b %Y %H:%M:%S\",lt)"
      ],
      "execution_count": 6,
      "outputs": [
        {
          "output_type": "execute_result",
          "data": {
            "application/vnd.google.colaboratory.intrinsic+json": {
              "type": "string"
            },
            "text/plain": [
              "'Mon, 21 Sep 2020 14:50:35'"
            ]
          },
          "metadata": {
            "tags": []
          },
          "execution_count": 6
        }
      ]
    },
    {
      "cell_type": "code",
      "metadata": {
        "jupyter": {
          "outputs_hidden": false
        },
        "id": "u2oSqfGUH7xp",
        "colab_type": "code",
        "colab": {
          "base_uri": "https://localhost:8080/",
          "height": 34
        },
        "outputId": "58edda61-0281-49c8-fbe2-b239ba928c6f"
      },
      "source": [
        "print(datetime.datetime.today())"
      ],
      "execution_count": 7,
      "outputs": [
        {
          "output_type": "stream",
          "text": [
            "2020-09-21 14:50:35.557548\n"
          ],
          "name": "stdout"
        }
      ]
    },
    {
      "cell_type": "code",
      "metadata": {
        "jupyter": {
          "outputs_hidden": false
        },
        "id": "XnWpbpEYH7xs",
        "colab_type": "code",
        "colab": {}
      },
      "source": [
        "today = datetime.date.today()\n",
        "philae_landing = datetime.date(2014, 11, 11)"
      ],
      "execution_count": 8,
      "outputs": []
    },
    {
      "cell_type": "code",
      "metadata": {
        "jupyter": {
          "outputs_hidden": false
        },
        "id": "SI03c7FUH7xu",
        "colab_type": "code",
        "colab": {}
      },
      "source": [
        "time_to_landing = philae_landing - today"
      ],
      "execution_count": 9,
      "outputs": []
    },
    {
      "cell_type": "code",
      "metadata": {
        "jupyter": {
          "outputs_hidden": false
        },
        "id": "gN0jfcjvH7xw",
        "colab_type": "code",
        "colab": {
          "base_uri": "https://localhost:8080/",
          "height": 34
        },
        "outputId": "e932f57d-d40c-46a6-9130-4a84d0278543"
      },
      "source": [
        "if philae_landing > today:\n",
        "    print('Philae landing in {} days.'.format(time_to_landing.days))\n",
        "else:\n",
        "    print('Philae landed since {} days.'.format(-time_to_landing.days))"
      ],
      "execution_count": 10,
      "outputs": [
        {
          "output_type": "stream",
          "text": [
            "Philae landed since 2141 days.\n"
          ],
          "name": "stdout"
        }
      ]
    },
    {
      "cell_type": "code",
      "metadata": {
        "jupyter": {
          "outputs_hidden": false
        },
        "id": "Z0hr13QHH7xz",
        "colab_type": "code",
        "colab": {
          "base_uri": "https://localhost:8080/",
          "height": 34
        },
        "outputId": "84a175a1-39f9-402d-e718-ccd5c5e7bfdc"
      },
      "source": [
        "start = time.time()\n",
        "for i in np.arange(1000):\n",
        "    t = np.math.factorial(i)\n",
        "end = time.time()\n",
        "print('1000 factorials done in {0:.3f} secs.'.format(end-start))"
      ],
      "execution_count": 11,
      "outputs": [
        {
          "output_type": "stream",
          "text": [
            "1000 factorials done in 0.026 secs.\n"
          ],
          "name": "stdout"
        }
      ]
    },
    {
      "cell_type": "code",
      "metadata": {
        "jupyter": {
          "outputs_hidden": false
        },
        "id": "jGGg-R8qH7x1",
        "colab_type": "code",
        "colab": {
          "base_uri": "https://localhost:8080/",
          "height": 34
        },
        "outputId": "1b027386-fe99-45c1-9074-19668999edcf"
      },
      "source": [
        "from timeit import Timer\n",
        "command = \"\"\"\\\n",
        "for i in np.arange(1000):\n",
        "    t = np.math.factorial(i)\n",
        "\"\"\"\n",
        "t = Timer(command, setup='import numpy as np')\n",
        "print(t.timeit(number=10))"
      ],
      "execution_count": 12,
      "outputs": [
        {
          "output_type": "stream",
          "text": [
            "0.14073731200005568\n"
          ],
          "name": "stdout"
        }
      ]
    },
    {
      "cell_type": "markdown",
      "metadata": {
        "id": "IKKQyTaOH7x3",
        "colab_type": "text"
      },
      "source": [
        "in ipython, one can use the magic timeit function:"
      ]
    },
    {
      "cell_type": "code",
      "metadata": {
        "jupyter": {
          "outputs_hidden": false
        },
        "id": "7AKQv69eH7x4",
        "colab_type": "code",
        "colab": {
          "base_uri": "https://localhost:8080/",
          "height": 51
        },
        "outputId": "25bd4c3b-1674-4adc-8408-848566141490"
      },
      "source": [
        "%timeit np.math.factorial(50)"
      ],
      "execution_count": 13,
      "outputs": [
        {
          "output_type": "stream",
          "text": [
            "The slowest run took 13.52 times longer than the fastest. This could mean that an intermediate result is being cached.\n",
            "1000000 loops, best of 3: 509 ns per loop\n"
          ],
          "name": "stdout"
        }
      ]
    },
    {
      "cell_type": "markdown",
      "metadata": {
        "id": "FXSsYMCQH7x6",
        "colab_type": "text"
      },
      "source": [
        "or for the whole cell:"
      ]
    },
    {
      "cell_type": "code",
      "metadata": {
        "jupyter": {
          "outputs_hidden": false
        },
        "id": "f-JfQ523H7x6",
        "colab_type": "code",
        "colab": {
          "base_uri": "https://localhost:8080/",
          "height": 34
        },
        "outputId": "287584ed-edf5-493a-d1ec-b8f6d5fb1988"
      },
      "source": [
        "%%timeit\n",
        "for i in np.arange(1000):\n",
        "    t = np.math.factorial(i)"
      ],
      "execution_count": 14,
      "outputs": [
        {
          "output_type": "stream",
          "text": [
            "100 loops, best of 3: 12.9 ms per loop\n"
          ],
          "name": "stdout"
        }
      ]
    },
    {
      "cell_type": "markdown",
      "metadata": {
        "id": "KyLxhPrrH7x9",
        "colab_type": "text"
      },
      "source": [
        "### os"
      ]
    },
    {
      "cell_type": "markdown",
      "metadata": {
        "id": "4uO40v8yH7x9",
        "colab_type": "text"
      },
      "source": [
        "https://docs.python.org/2/library/os.html \n",
        "This module provides a portable way of using operating system dependent functionality. If you just want to read or write a file see open(), if you want to manipulate paths, see the os.path module, and if you want to read all the lines in all the files on the command line see the fileinput module. For creating temporary files and directories see the tempfile module, and for high-level file and directory handling see the shutil module."
      ]
    },
    {
      "cell_type": "code",
      "metadata": {
        "jupyter": {
          "outputs_hidden": false
        },
        "id": "lBmM4BzFH7x9",
        "colab_type": "code",
        "colab": {}
      },
      "source": [
        "import os"
      ],
      "execution_count": 15,
      "outputs": []
    },
    {
      "cell_type": "code",
      "metadata": {
        "jupyter": {
          "outputs_hidden": false
        },
        "id": "y_JgGxBRH7yA",
        "colab_type": "code",
        "colab": {
          "base_uri": "https://localhost:8080/",
          "height": 34
        },
        "outputId": "b0109ac4-7fda-401e-f02f-110a2cd4c199"
      },
      "source": [
        "# os.environ is a dictionnary containing the environment variables and values\n",
        "if 'HOME' in os.environ:\n",
        "    print(os.environ['HOME'])\n",
        "else:\n",
        "    print('This OS is too limited to understand HOME')"
      ],
      "execution_count": 16,
      "outputs": [
        {
          "output_type": "stream",
          "text": [
            "/root\n"
          ],
          "name": "stdout"
        }
      ]
    },
    {
      "cell_type": "code",
      "metadata": {
        "jupyter": {
          "outputs_hidden": false
        },
        "id": "vlLWYIdBH7yC",
        "colab_type": "code",
        "colab": {
          "base_uri": "https://localhost:8080/",
          "height": 34
        },
        "outputId": "0b5f5543-4ae8-4be1-95ec-293a176df623"
      },
      "source": [
        "# if variable doesn't exists, getenv returns None\n",
        "print(os.getenv('HOMMMMMME'))"
      ],
      "execution_count": 17,
      "outputs": [
        {
          "output_type": "stream",
          "text": [
            "None\n"
          ],
          "name": "stdout"
        }
      ]
    },
    {
      "cell_type": "code",
      "metadata": {
        "jupyter": {
          "outputs_hidden": false
        },
        "id": "KYbr2GKiH7yE",
        "colab_type": "code",
        "colab": {
          "base_uri": "https://localhost:8080/",
          "height": 51
        },
        "outputId": "ef4f58a7-bc43-488d-838b-53bdf96b3c75"
      },
      "source": [
        "# get current working directory\n",
        "cwd = os.getcwd()\n",
        "print(cwd)\n",
        "print(cwd.split('/')[-1])"
      ],
      "execution_count": 18,
      "outputs": [
        {
          "output_type": "stream",
          "text": [
            "/content\n",
            "content\n"
          ],
          "name": "stdout"
        }
      ]
    },
    {
      "cell_type": "code",
      "metadata": {
        "jupyter": {
          "outputs_hidden": false
        },
        "id": "0JP8pXdqH7yG",
        "colab_type": "code",
        "colab": {
          "base_uri": "https://localhost:8080/",
          "height": 34
        },
        "outputId": "4607ab32-a96d-475f-87b3-77f3268facd2"
      },
      "source": [
        "new_dir = '/tmp/test3456'\n",
        "if not os.path.exists(new_dir):\n",
        "    os.mkdir(new_dir)\n",
        "    print('Dir {} created'.format(new_dir))\n",
        "else:\n",
        "    print('Dir {} exists'.format(new_dir))"
      ],
      "execution_count": 19,
      "outputs": [
        {
          "output_type": "stream",
          "text": [
            "Dir /tmp/test3456 created\n"
          ],
          "name": "stdout"
        }
      ]
    },
    {
      "cell_type": "code",
      "metadata": {
        "jupyter": {
          "outputs_hidden": false
        },
        "id": "kGmoz7jPH7yI",
        "colab_type": "code",
        "colab": {
          "base_uri": "https://localhost:8080/",
          "height": 34
        },
        "outputId": "7e12a6b0-3032-43fd-c146-c0baac437a80"
      },
      "source": [
        "# list all the files from a directory\n",
        "os.listdir(new_dir)"
      ],
      "execution_count": 20,
      "outputs": [
        {
          "output_type": "execute_result",
          "data": {
            "text/plain": [
              "[]"
            ]
          },
          "metadata": {
            "tags": []
          },
          "execution_count": 20
        }
      ]
    },
    {
      "cell_type": "code",
      "metadata": {
        "jupyter": {
          "outputs_hidden": false
        },
        "id": "2uBhkUOaH7yK",
        "colab_type": "code",
        "colab": {
          "base_uri": "https://localhost:8080/",
          "height": 35
        },
        "outputId": "955beff7-9b47-4485-cc66-639b9007d4c2"
      },
      "source": [
        "os.chdir(cwd)\n",
        "os.getcwd()"
      ],
      "execution_count": 21,
      "outputs": [
        {
          "output_type": "execute_result",
          "data": {
            "application/vnd.google.colaboratory.intrinsic+json": {
              "type": "string"
            },
            "text/plain": [
              "'/content'"
            ]
          },
          "metadata": {
            "tags": []
          },
          "execution_count": 21
        }
      ]
    },
    {
      "cell_type": "code",
      "metadata": {
        "jupyter": {
          "outputs_hidden": false
        },
        "id": "1M8EMNZEH7yM",
        "colab_type": "code",
        "colab": {}
      },
      "source": [
        "# Renaming files in a directory\n",
        "cwd = os.getcwd()\n",
        "os.chdir('/tmp')\n",
        "for filename in os.listdir('./'):\n",
        "    #print(filename)\n",
        "    base_file, ext = os.path.splitext(filename)\n",
        "    #print(base_file, ext)\n",
        "    if ext == '.txt':\n",
        "        newname = base_file + '.exe'\n",
        "        os.rename(filename, newname)\n",
        "        print('file {0} renamed to {1}'.format(filename, newname))\n",
        "os.chdir(cwd)"
      ],
      "execution_count": 22,
      "outputs": []
    },
    {
      "cell_type": "markdown",
      "metadata": {
        "id": "kaPSXOYRH7yO",
        "colab_type": "text"
      },
      "source": [
        "### glob"
      ]
    },
    {
      "cell_type": "markdown",
      "metadata": {
        "id": "6oAnvEGhH7yP",
        "colab_type": "text"
      },
      "source": [
        "https://docs.python.org/2/library/glob.html"
      ]
    },
    {
      "cell_type": "markdown",
      "metadata": {
        "id": "ZnoPMA0CH7yP",
        "colab_type": "text"
      },
      "source": [
        "No tilde expansion is done, but *, ?, and character ranges expressed with [] will be correctly matched."
      ]
    },
    {
      "cell_type": "code",
      "metadata": {
        "jupyter": {
          "outputs_hidden": false
        },
        "id": "7CeJ7TwrH7yP",
        "colab_type": "code",
        "colab": {}
      },
      "source": [
        "from glob import glob"
      ],
      "execution_count": 23,
      "outputs": []
    },
    {
      "cell_type": "code",
      "metadata": {
        "jupyter": {
          "outputs_hidden": false
        },
        "id": "vdS5Y2c_H7yR",
        "colab_type": "code",
        "colab": {
          "base_uri": "https://localhost:8080/",
          "height": 34
        },
        "outputId": "a96c3f79-84f6-4e2f-a76f-835efe376027"
      },
      "source": [
        "ipynb_files = glob('*.ipynb')\n",
        "print(ipynb_files)"
      ],
      "execution_count": 24,
      "outputs": [
        {
          "output_type": "stream",
          "text": [
            "[]\n"
          ],
          "name": "stdout"
        }
      ]
    },
    {
      "cell_type": "markdown",
      "metadata": {
        "id": "P4M6EE0lH7yT",
        "colab_type": "text"
      },
      "source": [
        "### pathlib"
      ]
    },
    {
      "cell_type": "code",
      "metadata": {
        "id": "r7rccabJH7yT",
        "colab_type": "code",
        "colab": {}
      },
      "source": [
        "from pathlib import Path"
      ],
      "execution_count": 25,
      "outputs": []
    },
    {
      "cell_type": "code",
      "metadata": {
        "id": "XWzbJNo9H7yV",
        "colab_type": "code",
        "colab": {
          "base_uri": "https://localhost:8080/",
          "height": 68
        },
        "outputId": "b21b6ada-1204-461f-996a-c944d477c5d8"
      },
      "source": [
        "new_dir = Path('/tmp/test1234')\n",
        "print(new_dir)\n",
        "print(new_dir.name)\n",
        "print(new_dir.parent)"
      ],
      "execution_count": 26,
      "outputs": [
        {
          "output_type": "stream",
          "text": [
            "/tmp/test1234\n",
            "test1234\n",
            "/tmp\n"
          ],
          "name": "stdout"
        }
      ]
    },
    {
      "cell_type": "code",
      "metadata": {
        "id": "UC-fupn0H7yX",
        "colab_type": "code",
        "colab": {
          "base_uri": "https://localhost:8080/",
          "height": 68
        },
        "outputId": "b113f3fe-1c69-4cf7-c8df-e474db9bd2d6"
      },
      "source": [
        "new_dir = Path('/tmp') / Path('test1234')\n",
        "print(new_dir)\n",
        "print(new_dir.name)\n",
        "print(new_dir.parent)"
      ],
      "execution_count": 27,
      "outputs": [
        {
          "output_type": "stream",
          "text": [
            "/tmp/test1234\n",
            "test1234\n",
            "/tmp\n"
          ],
          "name": "stdout"
        }
      ]
    },
    {
      "cell_type": "code",
      "metadata": {
        "id": "vDcvaOqmH7yY",
        "colab_type": "code",
        "colab": {
          "base_uri": "https://localhost:8080/",
          "height": 34
        },
        "outputId": "1a4cdcaa-381d-4fbf-d570-1886495ca978"
      },
      "source": [
        "if not new_dir.exists():\n",
        "    new_dir.mkdir() # may use exist_ok=True\n",
        "    print('Dir {} created'.format(new_dir))\n",
        "else:\n",
        "    print('Dir {} exists'.format(new_dir))"
      ],
      "execution_count": 28,
      "outputs": [
        {
          "output_type": "stream",
          "text": [
            "Dir /tmp/test1234 created\n"
          ],
          "name": "stdout"
        }
      ]
    },
    {
      "cell_type": "code",
      "metadata": {
        "id": "a7QuThp0H7ya",
        "colab_type": "code",
        "colab": {}
      },
      "source": [
        "current = Path('.')\n",
        "for f in current.glob('*.ipynb'):\n",
        "    print(f, f.stem, f.suffix)"
      ],
      "execution_count": 29,
      "outputs": []
    },
    {
      "cell_type": "code",
      "metadata": {
        "id": "oT4uVENSH7yc",
        "colab_type": "code",
        "colab": {
          "base_uri": "https://localhost:8080/",
          "height": 51
        },
        "outputId": "9357e8f0-36db-4514-b3b0-6e3b9803f4e7"
      },
      "source": [
        "new_dir = Path('/tmp') / Path('test1234')\n",
        "for f in new_dir.glob('test*.txt*'):\n",
        "    f.unlink()\n",
        "\n",
        "f = new_dir / Path('test1234.txt')\n",
        "f.touch()\n",
        "f = new_dir / Path('test5678.txt')\n",
        "f.touch()\n",
        "print(list(new_dir.glob('test*.txt*')))\n",
        "\n",
        "for f in new_dir.glob('test*.txt'):\n",
        "    new_f = f.with_suffix('.txt2')\n",
        "    if not new_f.exists():\n",
        "        f.rename(new_f)\n",
        "    else:\n",
        "        print('{} exists'.format(new_f))\n",
        "\n",
        "print(list(new_dir.glob('test*.txt*')))"
      ],
      "execution_count": 30,
      "outputs": [
        {
          "output_type": "stream",
          "text": [
            "[PosixPath('/tmp/test1234/test5678.txt'), PosixPath('/tmp/test1234/test1234.txt')]\n",
            "[PosixPath('/tmp/test1234/test1234.txt2'), PosixPath('/tmp/test1234/test5678.txt2')]\n"
          ],
          "name": "stdout"
        }
      ]
    },
    {
      "cell_type": "markdown",
      "metadata": {
        "id": "9F_EN2-aH7yd",
        "colab_type": "text"
      },
      "source": [
        "### sys"
      ]
    },
    {
      "cell_type": "markdown",
      "metadata": {
        "id": "oz0aXUoWH7ye",
        "colab_type": "text"
      },
      "source": [
        "https://docs.python.org/2/library/sys.html\n",
        "This module provides access to some variables used or maintained by the interpreter and to functions that interact strongly with the interpreter. It is always available.\n",
        "\n",
        "The sys.argv list contains the arguments passed to the script, when the interpreter was started. The first item contains the name of the script itself."
      ]
    },
    {
      "cell_type": "code",
      "metadata": {
        "jupyter": {
          "outputs_hidden": false
        },
        "id": "rY6RzBbCH7ye",
        "colab_type": "code",
        "colab": {
          "base_uri": "https://localhost:8080/",
          "height": 34
        },
        "outputId": "605fe260-b574-4f80-a0f1-fb9e913c8f96"
      },
      "source": [
        "%%writefile sys_text.py\n",
        "import sys\n",
        "for arg in sys.argv:\n",
        "    print(arg)\n",
        "\n"
      ],
      "execution_count": 31,
      "outputs": [
        {
          "output_type": "stream",
          "text": [
            "Writing sys_text.py\n"
          ],
          "name": "stdout"
        }
      ]
    },
    {
      "cell_type": "code",
      "metadata": {
        "jupyter": {
          "outputs_hidden": false
        },
        "id": "q5yEYmmMH7yf",
        "colab_type": "code",
        "colab": {
          "base_uri": "https://localhost:8080/",
          "height": 68
        },
        "outputId": "ddde33f0-3f2b-4787-be03-fe8059c77dac"
      },
      "source": [
        "!cat sys_text.py"
      ],
      "execution_count": 32,
      "outputs": [
        {
          "output_type": "stream",
          "text": [
            "import sys\n",
            "for arg in sys.argv:\n",
            "    print(arg)\n"
          ],
          "name": "stdout"
        }
      ]
    },
    {
      "cell_type": "code",
      "metadata": {
        "jupyter": {
          "outputs_hidden": false
        },
        "id": "n0Hw7VJ6H7yh",
        "colab_type": "code",
        "colab": {
          "base_uri": "https://localhost:8080/",
          "height": 51
        },
        "outputId": "5db71827-7b78-43e9-da40-384b6caf948c"
      },
      "source": [
        "! python sys_text.py tralala"
      ],
      "execution_count": 33,
      "outputs": [
        {
          "output_type": "stream",
          "text": [
            "sys_text.py\n",
            "tralala\n"
          ],
          "name": "stdout"
        }
      ]
    },
    {
      "cell_type": "code",
      "metadata": {
        "jupyter": {
          "outputs_hidden": false
        },
        "id": "9L5py-KDH7yj",
        "colab_type": "code",
        "colab": {
          "base_uri": "https://localhost:8080/",
          "height": 34
        },
        "outputId": "b95f7a0f-96cb-4b92-fb49-9d12ddfd1aad"
      },
      "source": [
        "%%writefile fact.py\n",
        "import sys\n",
        "import numpy\n",
        "print numpy.math.factorial(int(sys.argv[1]))\n",
        "\n"
      ],
      "execution_count": 34,
      "outputs": [
        {
          "output_type": "stream",
          "text": [
            "Writing fact.py\n"
          ],
          "name": "stdout"
        }
      ]
    },
    {
      "cell_type": "code",
      "metadata": {
        "jupyter": {
          "outputs_hidden": false
        },
        "id": "6nTcEAO6H7ym",
        "colab_type": "code",
        "colab": {
          "base_uri": "https://localhost:8080/",
          "height": 85
        },
        "outputId": "e6055f5b-506a-4c22-aef3-e0c19d2dd63e"
      },
      "source": [
        "! python fact.py 6"
      ],
      "execution_count": 35,
      "outputs": [
        {
          "output_type": "stream",
          "text": [
            "  File \"fact.py\", line 3\n",
            "    print numpy.math.factorial(int(sys.argv[1]))\n",
            "              ^\n",
            "SyntaxError: invalid syntax\n"
          ],
          "name": "stdout"
        }
      ]
    },
    {
      "cell_type": "markdown",
      "metadata": {
        "id": "iKtaOioHH7yn",
        "colab_type": "text"
      },
      "source": [
        "A more complete managment of the argument (especially those like --v) is available using the argparse library. https://docs.python.org/2/library/argparse.html"
      ]
    },
    {
      "cell_type": "markdown",
      "metadata": {
        "id": "QdzXPqo1H7yo",
        "colab_type": "text"
      },
      "source": [
        "### Talking to the OS subprocess"
      ]
    },
    {
      "cell_type": "markdown",
      "metadata": {
        "id": "0ncmBCC4H7yo",
        "colab_type": "text"
      },
      "source": [
        "The os.popen method is deprecated, subprocess is prefered. A good tutorial is here: http://pymotw.com/2/subprocess/"
      ]
    },
    {
      "cell_type": "code",
      "metadata": {
        "jupyter": {
          "outputs_hidden": false
        },
        "id": "Xp7Yb8C_H7yo",
        "colab_type": "code",
        "colab": {}
      },
      "source": [
        "import subprocess"
      ],
      "execution_count": 36,
      "outputs": []
    },
    {
      "cell_type": "code",
      "metadata": {
        "jupyter": {
          "outputs_hidden": false
        },
        "id": "l64kq98IH7yq",
        "colab_type": "code",
        "colab": {
          "base_uri": "https://localhost:8080/",
          "height": 85
        },
        "outputId": "3c0c9894-2ad0-4345-adb6-ed2b3787a26c"
      },
      "source": [
        "ls -l"
      ],
      "execution_count": 37,
      "outputs": [
        {
          "output_type": "stream",
          "text": [
            "total 12\n",
            "-rw-r--r-- 1 root root   69 Sep 21 14:50 fact.py\n",
            "drwxr-xr-x 1 root root 4096 Sep 16 16:29 \u001b[0m\u001b[01;34msample_data\u001b[0m/\n",
            "-rw-r--r-- 1 root root   47 Sep 21 14:50 sys_text.py\n"
          ],
          "name": "stdout"
        }
      ]
    },
    {
      "cell_type": "code",
      "metadata": {
        "jupyter": {
          "outputs_hidden": false
        },
        "id": "ofuFO3s3H7ys",
        "colab_type": "code",
        "colab": {
          "base_uri": "https://localhost:8080/",
          "height": 34
        },
        "outputId": "68854b8a-de0e-41e1-facb-ea91d9a9d923"
      },
      "source": [
        "subprocess.call(['ls -l'], shell=True)\n",
        "# The results is not visible in Notebook. In command line, the files are listed"
      ],
      "execution_count": 38,
      "outputs": [
        {
          "output_type": "execute_result",
          "data": {
            "text/plain": [
              "0"
            ]
          },
          "metadata": {
            "tags": []
          },
          "execution_count": 38
        }
      ]
    },
    {
      "cell_type": "code",
      "metadata": {
        "jupyter": {
          "outputs_hidden": false
        },
        "id": "b5PXYqRSH7yu",
        "colab_type": "code",
        "colab": {
          "base_uri": "https://localhost:8080/",
          "height": 119
        },
        "outputId": "9d211a0c-abf1-46e6-a1cb-364ecf84a271"
      },
      "source": [
        "output = subprocess.check_output(['ls', '-l'])\n",
        "print(type(output))\n",
        "print(output.decode())"
      ],
      "execution_count": 39,
      "outputs": [
        {
          "output_type": "stream",
          "text": [
            "<class 'bytes'>\n",
            "total 12\n",
            "-rw-r--r-- 1 root root   69 Sep 21 14:50 fact.py\n",
            "drwxr-xr-x 1 root root 4096 Sep 16 16:29 sample_data\n",
            "-rw-r--r-- 1 root root   47 Sep 21 14:50 sys_text.py\n",
            "\n"
          ],
          "name": "stdout"
        }
      ]
    },
    {
      "cell_type": "code",
      "metadata": {
        "jupyter": {
          "outputs_hidden": false
        },
        "id": "jYxGkVsLH7yw",
        "colab_type": "code",
        "colab": {
          "base_uri": "https://localhost:8080/",
          "height": 34
        },
        "outputId": "8345f68f-94a6-4dd9-8b30-59a2a1c9c8d1"
      },
      "source": [
        "command = 'ls -l'\n",
        "popen = subprocess.Popen(command, shell=True)\n",
        "# The same apply here, no output in Notebook\n",
        "print(popen)"
      ],
      "execution_count": 40,
      "outputs": [
        {
          "output_type": "stream",
          "text": [
            "<subprocess.Popen object at 0x7f74b060b198>\n"
          ],
          "name": "stdout"
        }
      ]
    },
    {
      "cell_type": "code",
      "metadata": {
        "jupyter": {
          "outputs_hidden": false
        },
        "id": "jN9M7W9AH7yy",
        "colab_type": "code",
        "colab": {
          "base_uri": "https://localhost:8080/",
          "height": 119
        },
        "outputId": "d7363d86-c8ad-44e2-8268-acd9774564f9"
      },
      "source": [
        "popen = subprocess.Popen(command, stdout=subprocess.PIPE, shell=True)\n",
        "res = popen.communicate()[0]\n",
        "print(type(res))\n",
        "print(res.decode())"
      ],
      "execution_count": 41,
      "outputs": [
        {
          "output_type": "stream",
          "text": [
            "<class 'bytes'>\n",
            "total 12\n",
            "-rw-r--r-- 1 root root   69 Sep 21 14:50 fact.py\n",
            "drwxr-xr-x 1 root root 4096 Sep 16 16:29 sample_data\n",
            "-rw-r--r-- 1 root root   47 Sep 21 14:50 sys_text.py\n",
            "\n"
          ],
          "name": "stdout"
        }
      ]
    },
    {
      "cell_type": "code",
      "metadata": {
        "jupyter": {
          "outputs_hidden": false
        },
        "id": "PTND8VhiH7y0",
        "colab_type": "code",
        "colab": {
          "base_uri": "https://localhost:8080/",
          "height": 232
        },
        "outputId": "c702c550-9697-4394-d2f7-dd234f8fb654"
      },
      "source": [
        "popen = subprocess.Popen(command, stdout=subprocess.PIPE, shell=True)\n",
        "for line in iter(popen.stdout.readline, \"\"):\n",
        "    lspl = line.split()\n",
        "    if len(lspl)> 4:\n",
        "        if int(lspl[4]) > 1000000:\n",
        "            print(lspl[8])"
      ],
      "execution_count": 42,
      "outputs": [
        {
          "output_type": "error",
          "ename": "KeyboardInterrupt",
          "evalue": "ignored",
          "traceback": [
            "\u001b[0;31m---------------------------------------------------------------------------\u001b[0m",
            "\u001b[0;31mKeyboardInterrupt\u001b[0m                         Traceback (most recent call last)",
            "\u001b[0;32m<ipython-input-42-585dc9ddab2f>\u001b[0m in \u001b[0;36m<module>\u001b[0;34m()\u001b[0m\n\u001b[1;32m      1\u001b[0m \u001b[0mpopen\u001b[0m \u001b[0;34m=\u001b[0m \u001b[0msubprocess\u001b[0m\u001b[0;34m.\u001b[0m\u001b[0mPopen\u001b[0m\u001b[0;34m(\u001b[0m\u001b[0mcommand\u001b[0m\u001b[0;34m,\u001b[0m \u001b[0mstdout\u001b[0m\u001b[0;34m=\u001b[0m\u001b[0msubprocess\u001b[0m\u001b[0;34m.\u001b[0m\u001b[0mPIPE\u001b[0m\u001b[0;34m,\u001b[0m \u001b[0mshell\u001b[0m\u001b[0;34m=\u001b[0m\u001b[0;32mTrue\u001b[0m\u001b[0;34m)\u001b[0m\u001b[0;34m\u001b[0m\u001b[0;34m\u001b[0m\u001b[0m\n\u001b[0;32m----> 2\u001b[0;31m \u001b[0;32mfor\u001b[0m \u001b[0mline\u001b[0m \u001b[0;32min\u001b[0m \u001b[0miter\u001b[0m\u001b[0;34m(\u001b[0m\u001b[0mpopen\u001b[0m\u001b[0;34m.\u001b[0m\u001b[0mstdout\u001b[0m\u001b[0;34m.\u001b[0m\u001b[0mreadline\u001b[0m\u001b[0;34m,\u001b[0m \u001b[0;34m\"\"\u001b[0m\u001b[0;34m)\u001b[0m\u001b[0;34m:\u001b[0m\u001b[0;34m\u001b[0m\u001b[0;34m\u001b[0m\u001b[0m\n\u001b[0m\u001b[1;32m      3\u001b[0m     \u001b[0mlspl\u001b[0m \u001b[0;34m=\u001b[0m \u001b[0mline\u001b[0m\u001b[0;34m.\u001b[0m\u001b[0msplit\u001b[0m\u001b[0;34m(\u001b[0m\u001b[0;34m)\u001b[0m\u001b[0;34m\u001b[0m\u001b[0;34m\u001b[0m\u001b[0m\n\u001b[1;32m      4\u001b[0m     \u001b[0;32mif\u001b[0m \u001b[0mlen\u001b[0m\u001b[0;34m(\u001b[0m\u001b[0mlspl\u001b[0m\u001b[0;34m)\u001b[0m\u001b[0;34m>\u001b[0m \u001b[0;36m4\u001b[0m\u001b[0;34m:\u001b[0m\u001b[0;34m\u001b[0m\u001b[0;34m\u001b[0m\u001b[0m\n\u001b[1;32m      5\u001b[0m         \u001b[0;32mif\u001b[0m \u001b[0mint\u001b[0m\u001b[0;34m(\u001b[0m\u001b[0mlspl\u001b[0m\u001b[0;34m[\u001b[0m\u001b[0;36m4\u001b[0m\u001b[0;34m]\u001b[0m\u001b[0;34m)\u001b[0m \u001b[0;34m>\u001b[0m \u001b[0;36m1000000\u001b[0m\u001b[0;34m:\u001b[0m\u001b[0;34m\u001b[0m\u001b[0;34m\u001b[0m\u001b[0m\n",
            "\u001b[0;31mKeyboardInterrupt\u001b[0m: "
          ]
        }
      ]
    },
    {
      "cell_type": "markdown",
      "metadata": {
        "id": "MXvE3YCBH7y2",
        "colab_type": "text"
      },
      "source": [
        "### re"
      ]
    },
    {
      "cell_type": "markdown",
      "metadata": {
        "id": "_Oc5EkqJH7y2",
        "colab_type": "text"
      },
      "source": [
        "The re module provides regular expression tools for advanced string processing. For complex matching and manipulation, regular expressions offer succinct, optimized solutions:"
      ]
    },
    {
      "cell_type": "code",
      "metadata": {
        "jupyter": {
          "outputs_hidden": false
        },
        "id": "nTGpCPekH7y2",
        "colab_type": "code",
        "colab": {
          "base_uri": "https://localhost:8080/",
          "height": 34
        },
        "outputId": "10b9758f-87bb-41b7-90ab-073fd5288c7d"
      },
      "source": [
        "import re\n",
        "# Search the words starting with \"f\"\n",
        "re.findall(r'\\bf[a-z]*', 'whifch foOt or hand fell fastest')"
      ],
      "execution_count": 43,
      "outputs": [
        {
          "output_type": "execute_result",
          "data": {
            "text/plain": [
              "['fo', 'fell', 'fastest']"
            ]
          },
          "metadata": {
            "tags": []
          },
          "execution_count": 43
        }
      ]
    },
    {
      "cell_type": "code",
      "metadata": {
        "jupyter": {
          "outputs_hidden": false
        },
        "id": "z1ffiZhsH7y4",
        "colab_type": "code",
        "colab": {
          "base_uri": "https://localhost:8080/",
          "height": 35
        },
        "outputId": "0bee0f0b-2696-44b3-aa58-71726a04de7d"
      },
      "source": [
        "# Remove duplicate words\n",
        "re.sub(r'(\\b[a-z]+) \\1', r'\\1', 'cat in the the hat')"
      ],
      "execution_count": 44,
      "outputs": [
        {
          "output_type": "execute_result",
          "data": {
            "application/vnd.google.colaboratory.intrinsic+json": {
              "type": "string"
            },
            "text/plain": [
              "'cat in the hat'"
            ]
          },
          "metadata": {
            "tags": []
          },
          "execution_count": 44
        }
      ]
    },
    {
      "cell_type": "markdown",
      "metadata": {
        "id": "38FF2lkBH7y5",
        "colab_type": "text"
      },
      "source": [
        "More in https://docs.python.org/2/library/re.html"
      ]
    },
    {
      "cell_type": "markdown",
      "metadata": {
        "id": "cSgSOI7KH7y5",
        "colab_type": "text"
      },
      "source": [
        "### urllib2"
      ]
    },
    {
      "cell_type": "code",
      "metadata": {
        "jupyter": {
          "outputs_hidden": false
        },
        "id": "gdyqReWHH7y6",
        "colab_type": "code",
        "colab": {}
      },
      "source": [
        "# from urllib2 import urlopen # python 2\n",
        "from urllib.request import urlopen"
      ],
      "execution_count": 45,
      "outputs": []
    },
    {
      "cell_type": "code",
      "metadata": {
        "jupyter": {
          "outputs_hidden": false
        },
        "id": "QfNtvQZGH7y8",
        "colab_type": "code",
        "colab": {
          "base_uri": "https://localhost:8080/",
          "height": 153
        },
        "outputId": "e24b0aa9-a62e-47b1-b791-ac7e0ac5398b"
      },
      "source": [
        "for line in urlopen('http://dev.on-rev.com/myip.irev'):\n",
        "    print(line)\n",
        "    if 'IP' in str(line):\n",
        "        IP = str(line).split(':')[1][:-7]\n",
        "print('-------')\n",
        "print(IP)"
      ],
      "execution_count": 46,
      "outputs": [
        {
          "output_type": "stream",
          "text": [
            "b'<html>\\n'\n",
            "b'<body>\\n'\n",
            "b'<p>\\n'\n",
            "b'Remote IP Address:104.197.73.91</p>\\n'\n",
            "b'</body>\\n'\n",
            "b'</html>'\n",
            "-------\n",
            "104.197.73.91\n"
          ],
          "name": "stdout"
        }
      ]
    },
    {
      "cell_type": "code",
      "metadata": {
        "id": "xyckF72pJr90",
        "colab_type": "code",
        "colab": {}
      },
      "source": [
        ""
      ],
      "execution_count": null,
      "outputs": []
    }
  ]
}