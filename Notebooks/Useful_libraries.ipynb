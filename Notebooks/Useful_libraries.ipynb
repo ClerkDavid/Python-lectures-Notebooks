{
 "cells": [
  {
   "cell_type": "code",
   "execution_count": 1,
   "metadata": {
    "colab": {
     "base_uri": "https://localhost:8080/",
     "height": 68
    },
    "colab_type": "code",
    "collapsed": false,
    "id": "32L86GWVH7xT",
    "jupyter": {
     "outputs_hidden": false
    },
    "outputId": "75144bd1-f475-47c5-9717-d8dfc69ba867"
   },
   "outputs": [
    {
     "name": "stdout",
     "output_type": "stream",
     "text": [
      "Mon Sep 21 17:00:51 2020\n",
      "3.7.6 (default, Jan  8 2020, 13:42:34) \n",
      "[Clang 4.0.1 (tags/RELEASE_401/final)]\n"
     ]
    }
   ],
   "source": [
    "# The following is to know when this notebook has been run and with which python version.\n",
    "import time, sys\n",
    "print(time.ctime())\n",
    "print(sys.version.split('|')[0])"
   ]
  },
  {
   "cell_type": "code",
   "execution_count": 2,
   "metadata": {
    "colab": {},
    "colab_type": "code",
    "collapsed": false,
    "id": "Ok2reGgrH7xX",
    "jupyter": {
     "outputs_hidden": false
    }
   },
   "outputs": [],
   "source": [
    "import numpy as np"
   ]
  },
  {
   "cell_type": "markdown",
   "metadata": {
    "colab_type": "text",
    "id": "LT0khpzjH7xb"
   },
   "source": [
    "# F Some useful libraries that make life easier"
   ]
  },
  {
   "cell_type": "markdown",
   "metadata": {
    "colab_type": "text",
    "id": "MNiJIN0eH7xb"
   },
   "source": [
    "This is part of the Python lecture given by Christophe Morisset at IA-UNAM."
   ]
  },
  {
   "cell_type": "markdown",
   "metadata": {
    "colab_type": "text",
    "id": "nW9XV2pgH7xc"
   },
   "source": [
    "This lecture will give some insights to the most useful python libraries. It is NOT exhaustive, you have to read the corresponding manual pages to find the best use you can have of them. The list of all python-included libraries is here: https://docs.python.org/2/library/"
   ]
  },
  {
   "cell_type": "markdown",
   "metadata": {
    "colab_type": "text",
    "id": "8gr3DHdrH7xc"
   },
   "source": [
    "### time, datetime and timeit"
   ]
  },
  {
   "cell_type": "markdown",
   "metadata": {
    "colab_type": "text",
    "id": "1uk9swL3H7xd"
   },
   "source": [
    "*  https://docs.python.org/2/library/time.html\n",
    "*  https://docs.python.org/2/library/datetime.html"
   ]
  },
  {
   "cell_type": "code",
   "execution_count": 3,
   "metadata": {
    "colab": {},
    "colab_type": "code",
    "collapsed": false,
    "id": "ZvXi9pc6H7xd",
    "jupyter": {
     "outputs_hidden": false
    }
   },
   "outputs": [],
   "source": [
    "import time\n",
    "import datetime"
   ]
  },
  {
   "cell_type": "code",
   "execution_count": 4,
   "metadata": {
    "colab": {
     "base_uri": "https://localhost:8080/",
     "height": 34
    },
    "colab_type": "code",
    "collapsed": false,
    "id": "lU1GfjWQH7xg",
    "jupyter": {
     "outputs_hidden": false
    },
    "outputId": "ee865dfa-bf31-4e69-d7be-d1bdbd177c6d"
   },
   "outputs": [
    {
     "name": "stdout",
     "output_type": "stream",
     "text": [
      "Mon Sep 21 17:00:51 2020\n"
     ]
    }
   ],
   "source": [
    "print(time.ctime()) # current time, in a string format"
   ]
  },
  {
   "cell_type": "code",
   "execution_count": 5,
   "metadata": {
    "colab": {
     "base_uri": "https://localhost:8080/",
     "height": 34
    },
    "colab_type": "code",
    "collapsed": false,
    "id": "TP9z7JIrH7xj",
    "jupyter": {
     "outputs_hidden": false
    },
    "outputId": "48cf2b0e-921c-471e-ace3-c068b6effd23"
   },
   "outputs": [
    {
     "name": "stdout",
     "output_type": "stream",
     "text": [
      "time.struct_time(tm_year=2020, tm_mon=9, tm_mday=21, tm_hour=17, tm_min=0, tm_sec=51, tm_wday=0, tm_yday=265, tm_isdst=1)\n"
     ]
    }
   ],
   "source": [
    "lt = time.localtime()\n",
    "print(lt)"
   ]
  },
  {
   "cell_type": "code",
   "execution_count": 6,
   "metadata": {
    "colab": {
     "base_uri": "https://localhost:8080/",
     "height": 35
    },
    "colab_type": "code",
    "collapsed": false,
    "id": "d9TfFezSH7xm",
    "jupyter": {
     "outputs_hidden": false
    },
    "outputId": "155e4095-f8bc-41af-dfdb-bee55517e1da"
   },
   "outputs": [
    {
     "data": {
      "text/plain": [
       "'Mon, 21 Sep 2020 17:00:51'"
      ]
     },
     "execution_count": 6,
     "metadata": {},
     "output_type": "execute_result"
    }
   ],
   "source": [
    "time.strftime(\"%a, %d %b %Y %H:%M:%S\",lt)"
   ]
  },
  {
   "cell_type": "code",
   "execution_count": 7,
   "metadata": {
    "colab": {
     "base_uri": "https://localhost:8080/",
     "height": 34
    },
    "colab_type": "code",
    "collapsed": false,
    "id": "u2oSqfGUH7xp",
    "jupyter": {
     "outputs_hidden": false
    },
    "outputId": "58edda61-0281-49c8-fbe2-b239ba928c6f"
   },
   "outputs": [
    {
     "name": "stdout",
     "output_type": "stream",
     "text": [
      "2020-09-21 17:00:51.752664\n"
     ]
    }
   ],
   "source": [
    "print(datetime.datetime.today())"
   ]
  },
  {
   "cell_type": "code",
   "execution_count": 8,
   "metadata": {
    "colab": {},
    "colab_type": "code",
    "collapsed": false,
    "id": "XnWpbpEYH7xs",
    "jupyter": {
     "outputs_hidden": false
    }
   },
   "outputs": [],
   "source": [
    "today = datetime.date.today()\n",
    "philae_landing = datetime.date(2014, 11, 11)"
   ]
  },
  {
   "cell_type": "code",
   "execution_count": 9,
   "metadata": {
    "colab": {},
    "colab_type": "code",
    "collapsed": false,
    "id": "SI03c7FUH7xu",
    "jupyter": {
     "outputs_hidden": false
    }
   },
   "outputs": [],
   "source": [
    "time_to_landing = philae_landing - today"
   ]
  },
  {
   "cell_type": "code",
   "execution_count": 10,
   "metadata": {
    "colab": {
     "base_uri": "https://localhost:8080/",
     "height": 34
    },
    "colab_type": "code",
    "collapsed": false,
    "id": "gN0jfcjvH7xw",
    "jupyter": {
     "outputs_hidden": false
    },
    "outputId": "e932f57d-d40c-46a6-9130-4a84d0278543"
   },
   "outputs": [
    {
     "name": "stdout",
     "output_type": "stream",
     "text": [
      "Philae landed since 2141 days.\n"
     ]
    }
   ],
   "source": [
    "if philae_landing > today:\n",
    "    print('Philae landing in {} days.'.format(time_to_landing.days))\n",
    "else:\n",
    "    print('Philae landed since {} days.'.format(-time_to_landing.days))"
   ]
  },
  {
   "cell_type": "code",
   "execution_count": 11,
   "metadata": {
    "colab": {
     "base_uri": "https://localhost:8080/",
     "height": 34
    },
    "colab_type": "code",
    "collapsed": false,
    "id": "Z0hr13QHH7xz",
    "jupyter": {
     "outputs_hidden": false
    },
    "outputId": "84a175a1-39f9-402d-e718-ccd5c5e7bfdc"
   },
   "outputs": [
    {
     "name": "stdout",
     "output_type": "stream",
     "text": [
      "1000 factorials done in 0.017 secs.\n"
     ]
    }
   ],
   "source": [
    "start = time.time()\n",
    "for i in np.arange(1000):\n",
    "    t = np.math.factorial(i)\n",
    "end = time.time()\n",
    "print('1000 factorials done in {0:.3f} secs.'.format(end-start))"
   ]
  },
  {
   "cell_type": "code",
   "execution_count": 12,
   "metadata": {
    "colab": {
     "base_uri": "https://localhost:8080/",
     "height": 34
    },
    "colab_type": "code",
    "collapsed": false,
    "id": "jGGg-R8qH7x1",
    "jupyter": {
     "outputs_hidden": false
    },
    "outputId": "1b027386-fe99-45c1-9074-19668999edcf"
   },
   "outputs": [
    {
     "name": "stdout",
     "output_type": "stream",
     "text": [
      "0.14278398400000003\n"
     ]
    }
   ],
   "source": [
    "from timeit import Timer\n",
    "command = \"\"\"\\\n",
    "for i in np.arange(1000):\n",
    "    t = np.math.factorial(i)\n",
    "\"\"\"\n",
    "t = Timer(command, setup='import numpy as np')\n",
    "print(t.timeit(number=10))"
   ]
  },
  {
   "cell_type": "markdown",
   "metadata": {
    "colab_type": "text",
    "id": "IKKQyTaOH7x3"
   },
   "source": [
    "in ipython, one can use the magic timeit function:"
   ]
  },
  {
   "cell_type": "code",
   "execution_count": 13,
   "metadata": {
    "colab": {
     "base_uri": "https://localhost:8080/",
     "height": 51
    },
    "colab_type": "code",
    "collapsed": false,
    "id": "7AKQv69eH7x4",
    "jupyter": {
     "outputs_hidden": false
    },
    "outputId": "25bd4c3b-1674-4adc-8408-848566141490"
   },
   "outputs": [
    {
     "name": "stdout",
     "output_type": "stream",
     "text": [
      "458 ns ± 21.9 ns per loop (mean ± std. dev. of 7 runs, 1000000 loops each)\n"
     ]
    }
   ],
   "source": [
    "%timeit np.math.factorial(50)"
   ]
  },
  {
   "cell_type": "markdown",
   "metadata": {
    "colab_type": "text",
    "id": "FXSsYMCQH7x6"
   },
   "source": [
    "or for the whole cell:"
   ]
  },
  {
   "cell_type": "code",
   "execution_count": 14,
   "metadata": {
    "colab": {
     "base_uri": "https://localhost:8080/",
     "height": 34
    },
    "colab_type": "code",
    "collapsed": false,
    "id": "f-JfQ523H7x6",
    "jupyter": {
     "outputs_hidden": false
    },
    "outputId": "287584ed-edf5-493a-d1ec-b8f6d5fb1988"
   },
   "outputs": [
    {
     "name": "stdout",
     "output_type": "stream",
     "text": [
      "11.4 ms ± 573 µs per loop (mean ± std. dev. of 7 runs, 100 loops each)\n"
     ]
    }
   ],
   "source": [
    "%%timeit\n",
    "for i in np.arange(1000):\n",
    "    t = np.math.factorial(i)"
   ]
  },
  {
   "cell_type": "markdown",
   "metadata": {
    "colab_type": "text",
    "id": "KyLxhPrrH7x9"
   },
   "source": [
    "### os"
   ]
  },
  {
   "cell_type": "markdown",
   "metadata": {
    "colab_type": "text",
    "id": "4uO40v8yH7x9"
   },
   "source": [
    "https://docs.python.org/2/library/os.html \n",
    "This module provides a portable way of using operating system dependent functionality. If you just want to read or write a file see open(), if you want to manipulate paths, see the os.path module, and if you want to read all the lines in all the files on the command line see the fileinput module. For creating temporary files and directories see the tempfile module, and for high-level file and directory handling see the shutil module."
   ]
  },
  {
   "cell_type": "code",
   "execution_count": 15,
   "metadata": {
    "colab": {},
    "colab_type": "code",
    "collapsed": false,
    "id": "lBmM4BzFH7x9",
    "jupyter": {
     "outputs_hidden": false
    }
   },
   "outputs": [],
   "source": [
    "import os"
   ]
  },
  {
   "cell_type": "code",
   "execution_count": 16,
   "metadata": {
    "colab": {
     "base_uri": "https://localhost:8080/",
     "height": 34
    },
    "colab_type": "code",
    "collapsed": false,
    "id": "y_JgGxBRH7yA",
    "jupyter": {
     "outputs_hidden": false
    },
    "outputId": "b0109ac4-7fda-401e-f02f-110a2cd4c199"
   },
   "outputs": [
    {
     "name": "stdout",
     "output_type": "stream",
     "text": [
      "/Users/christophemorisset\n"
     ]
    }
   ],
   "source": [
    "# os.environ is a dictionnary containing the environment variables and values\n",
    "if 'HOME' in os.environ:\n",
    "    print(os.environ['HOME'])\n",
    "else:\n",
    "    print('This OS is too limited to understand HOME')"
   ]
  },
  {
   "cell_type": "code",
   "execution_count": 17,
   "metadata": {
    "colab": {
     "base_uri": "https://localhost:8080/",
     "height": 34
    },
    "colab_type": "code",
    "collapsed": false,
    "id": "vlLWYIdBH7yC",
    "jupyter": {
     "outputs_hidden": false
    },
    "outputId": "0b5f5543-4ae8-4be1-95ec-293a176df623"
   },
   "outputs": [
    {
     "name": "stdout",
     "output_type": "stream",
     "text": [
      "None\n"
     ]
    }
   ],
   "source": [
    "# if variable doesn't exists, getenv returns None\n",
    "print(os.getenv('HOMMMMMME'))"
   ]
  },
  {
   "cell_type": "code",
   "execution_count": 18,
   "metadata": {
    "colab": {
     "base_uri": "https://localhost:8080/",
     "height": 51
    },
    "colab_type": "code",
    "collapsed": false,
    "id": "KYbr2GKiH7yE",
    "jupyter": {
     "outputs_hidden": false
    },
    "outputId": "ef4f58a7-bc43-488d-838b-53bdf96b3c75"
   },
   "outputs": [
    {
     "name": "stdout",
     "output_type": "stream",
     "text": [
      "/Users/christophemorisset/Google Drive/Pro/Python-MySQL/Notebooks/Notebooks\n",
      "Notebooks\n"
     ]
    }
   ],
   "source": [
    "# get current working directory\n",
    "cwd = os.getcwd()\n",
    "print(cwd)\n",
    "print(cwd.split('/')[-1])"
   ]
  },
  {
   "cell_type": "code",
   "execution_count": 19,
   "metadata": {
    "colab": {
     "base_uri": "https://localhost:8080/",
     "height": 34
    },
    "colab_type": "code",
    "collapsed": false,
    "id": "0JP8pXdqH7yG",
    "jupyter": {
     "outputs_hidden": false
    },
    "outputId": "4607ab32-a96d-475f-87b3-77f3268facd2"
   },
   "outputs": [
    {
     "name": "stdout",
     "output_type": "stream",
     "text": [
      "Dir /tmp/test3456 exists\n"
     ]
    }
   ],
   "source": [
    "new_dir = '/tmp/test3456'\n",
    "if not os.path.exists(new_dir):\n",
    "    os.mkdir(new_dir)\n",
    "    print('Dir {} created'.format(new_dir))\n",
    "else:\n",
    "    print('Dir {} exists'.format(new_dir))"
   ]
  },
  {
   "cell_type": "code",
   "execution_count": 20,
   "metadata": {
    "colab": {
     "base_uri": "https://localhost:8080/",
     "height": 34
    },
    "colab_type": "code",
    "collapsed": false,
    "id": "kGmoz7jPH7yI",
    "jupyter": {
     "outputs_hidden": false
    },
    "outputId": "7e12a6b0-3032-43fd-c146-c0baac437a80"
   },
   "outputs": [
    {
     "data": {
      "text/plain": [
       "[]"
      ]
     },
     "execution_count": 20,
     "metadata": {},
     "output_type": "execute_result"
    }
   ],
   "source": [
    "# list all the files from a directory\n",
    "os.listdir(new_dir)"
   ]
  },
  {
   "cell_type": "code",
   "execution_count": 21,
   "metadata": {
    "colab": {
     "base_uri": "https://localhost:8080/",
     "height": 35
    },
    "colab_type": "code",
    "collapsed": false,
    "id": "2uBhkUOaH7yK",
    "jupyter": {
     "outputs_hidden": false
    },
    "outputId": "955beff7-9b47-4485-cc66-639b9007d4c2"
   },
   "outputs": [
    {
     "data": {
      "text/plain": [
       "'/Users/christophemorisset/Google Drive/Pro/Python-MySQL/Notebooks/Notebooks'"
      ]
     },
     "execution_count": 21,
     "metadata": {},
     "output_type": "execute_result"
    }
   ],
   "source": [
    "os.chdir(cwd)\n",
    "os.getcwd()"
   ]
  },
  {
   "cell_type": "code",
   "execution_count": 22,
   "metadata": {
    "colab": {},
    "colab_type": "code",
    "collapsed": false,
    "id": "1M8EMNZEH7yM",
    "jupyter": {
     "outputs_hidden": false
    }
   },
   "outputs": [
    {
     "name": "stdout",
     "output_type": "stream",
     "text": [
      "file tunnelblick-installer-log.txt NOT renamed\n"
     ]
    }
   ],
   "source": [
    "# Renaming files in a directory\n",
    "cwd = os.getcwd()\n",
    "os.chdir('/tmp')\n",
    "for filename in os.listdir('./'):\n",
    "    #print(filename)\n",
    "    base_file, ext = os.path.splitext(filename)\n",
    "    #print(base_file, ext)\n",
    "    if ext == '.txt':\n",
    "        newname = base_file + '.exe'\n",
    "        try:\n",
    "            os.rename(filename, newname)\n",
    "            print('file {0} renamed to {1}'.format(filename, newname))\n",
    "        except:\n",
    "            print('file {0} NOT renamed'.format(filename))\n",
    "os.chdir(cwd)"
   ]
  },
  {
   "cell_type": "markdown",
   "metadata": {
    "colab_type": "text",
    "id": "kaPSXOYRH7yO"
   },
   "source": [
    "### glob"
   ]
  },
  {
   "cell_type": "markdown",
   "metadata": {
    "colab_type": "text",
    "id": "6oAnvEGhH7yP"
   },
   "source": [
    "https://docs.python.org/2/library/glob.html"
   ]
  },
  {
   "cell_type": "markdown",
   "metadata": {
    "colab_type": "text",
    "id": "ZnoPMA0CH7yP"
   },
   "source": [
    "No tilde expansion is done, but *, ?, and character ranges expressed with [] will be correctly matched."
   ]
  },
  {
   "cell_type": "code",
   "execution_count": 23,
   "metadata": {
    "colab": {},
    "colab_type": "code",
    "collapsed": false,
    "id": "7CeJ7TwrH7yP",
    "jupyter": {
     "outputs_hidden": false
    }
   },
   "outputs": [],
   "source": [
    "from glob import glob"
   ]
  },
  {
   "cell_type": "code",
   "execution_count": 24,
   "metadata": {
    "colab": {
     "base_uri": "https://localhost:8080/",
     "height": 34
    },
    "colab_type": "code",
    "collapsed": false,
    "id": "vdS5Y2c_H7yR",
    "jupyter": {
     "outputs_hidden": false
    },
    "outputId": "a96c3f79-84f6-4e2f-a76f-835efe376027"
   },
   "outputs": [
    {
     "name": "stdout",
     "output_type": "stream",
     "text": [
      "['Calling Fortran.ipynb', 'intro_Scipy.ipynb', 'Ex1_with_res.ipynb', 'Parallel.ipynb', 'OOP.ipynb', 'Using_astropy.ipynb', 'Interact with files.ipynb', 'Useful_libraries.ipynb', 'intro_numpy.ipynb', 'intro_Python.ipynb', 'Ex1_done.ipynb', 'Ex1.ipynb', 'intro_Matplotlib.ipynb', 'Optimization.ipynb', 'Using_PyMySQL.ipynb']\n"
     ]
    }
   ],
   "source": [
    "ipynb_files = glob('*.ipynb')\n",
    "print(ipynb_files)"
   ]
  },
  {
   "cell_type": "markdown",
   "metadata": {
    "colab_type": "text",
    "id": "P4M6EE0lH7yT"
   },
   "source": [
    "### pathlib"
   ]
  },
  {
   "cell_type": "code",
   "execution_count": 25,
   "metadata": {
    "colab": {},
    "colab_type": "code",
    "id": "r7rccabJH7yT"
   },
   "outputs": [],
   "source": [
    "from pathlib import Path"
   ]
  },
  {
   "cell_type": "code",
   "execution_count": 26,
   "metadata": {
    "colab": {
     "base_uri": "https://localhost:8080/",
     "height": 68
    },
    "colab_type": "code",
    "id": "XWzbJNo9H7yV",
    "outputId": "b21b6ada-1204-461f-996a-c944d477c5d8"
   },
   "outputs": [
    {
     "name": "stdout",
     "output_type": "stream",
     "text": [
      "/tmp/test1234\n",
      "test1234\n",
      "/tmp\n"
     ]
    }
   ],
   "source": [
    "new_dir = Path('/tmp/test1234')\n",
    "print(new_dir)\n",
    "print(new_dir.name)\n",
    "print(new_dir.parent)"
   ]
  },
  {
   "cell_type": "code",
   "execution_count": 27,
   "metadata": {
    "colab": {
     "base_uri": "https://localhost:8080/",
     "height": 68
    },
    "colab_type": "code",
    "id": "UC-fupn0H7yX",
    "outputId": "b113f3fe-1c69-4cf7-c8df-e474db9bd2d6"
   },
   "outputs": [
    {
     "name": "stdout",
     "output_type": "stream",
     "text": [
      "/tmp/test1234\n",
      "test1234\n",
      "/tmp\n"
     ]
    }
   ],
   "source": [
    "new_dir = Path('/tmp') / Path('test1234')\n",
    "print(new_dir)\n",
    "print(new_dir.name)\n",
    "print(new_dir.parent)"
   ]
  },
  {
   "cell_type": "code",
   "execution_count": 28,
   "metadata": {
    "colab": {
     "base_uri": "https://localhost:8080/",
     "height": 34
    },
    "colab_type": "code",
    "id": "vDcvaOqmH7yY",
    "outputId": "1a4cdcaa-381d-4fbf-d570-1886495ca978"
   },
   "outputs": [
    {
     "name": "stdout",
     "output_type": "stream",
     "text": [
      "Dir /tmp/test1234 created\n"
     ]
    }
   ],
   "source": [
    "if not new_dir.exists():\n",
    "    new_dir.mkdir() # may use exist_ok=True\n",
    "    print('Dir {} created'.format(new_dir))\n",
    "else:\n",
    "    print('Dir {} exists'.format(new_dir))"
   ]
  },
  {
   "cell_type": "code",
   "execution_count": 29,
   "metadata": {
    "colab": {},
    "colab_type": "code",
    "id": "a7QuThp0H7ya"
   },
   "outputs": [
    {
     "name": "stdout",
     "output_type": "stream",
     "text": [
      "Calling Fortran.ipynb Calling Fortran .ipynb\n",
      "intro_Scipy.ipynb intro_Scipy .ipynb\n",
      "Ex1_with_res.ipynb Ex1_with_res .ipynb\n",
      "Parallel.ipynb Parallel .ipynb\n",
      "OOP.ipynb OOP .ipynb\n",
      "Using_astropy.ipynb Using_astropy .ipynb\n",
      "Interact with files.ipynb Interact with files .ipynb\n",
      "Useful_libraries.ipynb Useful_libraries .ipynb\n",
      "intro_numpy.ipynb intro_numpy .ipynb\n",
      "intro_Python.ipynb intro_Python .ipynb\n",
      "Ex1_done.ipynb Ex1_done .ipynb\n",
      "Ex1.ipynb Ex1 .ipynb\n",
      "intro_Matplotlib.ipynb intro_Matplotlib .ipynb\n",
      "Optimization.ipynb Optimization .ipynb\n",
      "Using_PyMySQL.ipynb Using_PyMySQL .ipynb\n"
     ]
    }
   ],
   "source": [
    "current = Path('.')\n",
    "for f in current.glob('*.ipynb'):\n",
    "    print(f, f.stem, f.suffix)"
   ]
  },
  {
   "cell_type": "code",
   "execution_count": 30,
   "metadata": {
    "colab": {
     "base_uri": "https://localhost:8080/",
     "height": 51
    },
    "colab_type": "code",
    "id": "oT4uVENSH7yc",
    "outputId": "9357e8f0-36db-4514-b3b0-6e3b9803f4e7"
   },
   "outputs": [
    {
     "name": "stdout",
     "output_type": "stream",
     "text": [
      "[PosixPath('/tmp/test1234/test5678.txt'), PosixPath('/tmp/test1234/test1234.txt')]\n",
      "[PosixPath('/tmp/test1234/test1234.txt2'), PosixPath('/tmp/test1234/test5678.txt2')]\n"
     ]
    }
   ],
   "source": [
    "new_dir = Path('/tmp') / Path('test1234')\n",
    "for f in new_dir.glob('test*.txt*'):\n",
    "    f.unlink()\n",
    "\n",
    "f = new_dir / Path('test1234.txt')\n",
    "f.touch()\n",
    "f = new_dir / Path('test5678.txt')\n",
    "f.touch()\n",
    "print(list(new_dir.glob('test*.txt*')))\n",
    "\n",
    "for f in new_dir.glob('test*.txt'):\n",
    "    new_f = f.with_suffix('.txt2')\n",
    "    if not new_f.exists():\n",
    "        f.rename(new_f)\n",
    "    else:\n",
    "        print('{} exists'.format(new_f))\n",
    "\n",
    "print(list(new_dir.glob('test*.txt*')))"
   ]
  },
  {
   "cell_type": "markdown",
   "metadata": {
    "colab_type": "text",
    "id": "9F_EN2-aH7yd"
   },
   "source": [
    "### sys"
   ]
  },
  {
   "cell_type": "markdown",
   "metadata": {
    "colab_type": "text",
    "id": "oz0aXUoWH7ye"
   },
   "source": [
    "https://docs.python.org/2/library/sys.html\n",
    "This module provides access to some variables used or maintained by the interpreter and to functions that interact strongly with the interpreter. It is always available.\n",
    "\n",
    "The sys.argv list contains the arguments passed to the script, when the interpreter was started. The first item contains the name of the script itself."
   ]
  },
  {
   "cell_type": "code",
   "execution_count": 31,
   "metadata": {
    "colab": {
     "base_uri": "https://localhost:8080/",
     "height": 34
    },
    "colab_type": "code",
    "collapsed": false,
    "id": "rY6RzBbCH7ye",
    "jupyter": {
     "outputs_hidden": false
    },
    "outputId": "605fe260-b574-4f80-a0f1-fb9e913c8f96"
   },
   "outputs": [
    {
     "name": "stdout",
     "output_type": "stream",
     "text": [
      "Overwriting sys_text.py\n"
     ]
    }
   ],
   "source": [
    "%%writefile sys_text.py\n",
    "import sys\n",
    "for arg in sys.argv:\n",
    "    print(arg)\n",
    "\n"
   ]
  },
  {
   "cell_type": "code",
   "execution_count": 32,
   "metadata": {
    "colab": {
     "base_uri": "https://localhost:8080/",
     "height": 68
    },
    "colab_type": "code",
    "collapsed": false,
    "id": "q5yEYmmMH7yf",
    "jupyter": {
     "outputs_hidden": false
    },
    "outputId": "ddde33f0-3f2b-4787-be03-fe8059c77dac"
   },
   "outputs": [
    {
     "name": "stdout",
     "output_type": "stream",
     "text": [
      "import sys\n",
      "for arg in sys.argv:\n",
      "    print(arg)\n",
      "\n"
     ]
    }
   ],
   "source": [
    "!cat sys_text.py"
   ]
  },
  {
   "cell_type": "code",
   "execution_count": 33,
   "metadata": {
    "colab": {
     "base_uri": "https://localhost:8080/",
     "height": 51
    },
    "colab_type": "code",
    "collapsed": false,
    "id": "n0Hw7VJ6H7yh",
    "jupyter": {
     "outputs_hidden": false
    },
    "outputId": "5db71827-7b78-43e9-da40-384b6caf948c"
   },
   "outputs": [
    {
     "name": "stdout",
     "output_type": "stream",
     "text": [
      "sys_text.py\n",
      "tralala\n"
     ]
    }
   ],
   "source": [
    "! python sys_text.py tralala"
   ]
  },
  {
   "cell_type": "code",
   "execution_count": 34,
   "metadata": {
    "colab": {
     "base_uri": "https://localhost:8080/",
     "height": 34
    },
    "colab_type": "code",
    "collapsed": false,
    "id": "9L5py-KDH7yj",
    "jupyter": {
     "outputs_hidden": false
    },
    "outputId": "b95f7a0f-96cb-4b92-fb49-9d12ddfd1aad"
   },
   "outputs": [
    {
     "name": "stdout",
     "output_type": "stream",
     "text": [
      "Overwriting fact.py\n"
     ]
    }
   ],
   "source": [
    "%%writefile fact.py\n",
    "import sys\n",
    "import numpy\n",
    "print numpy.math.factorial(int(sys.argv[1]))\n",
    "\n"
   ]
  },
  {
   "cell_type": "code",
   "execution_count": 35,
   "metadata": {
    "colab": {
     "base_uri": "https://localhost:8080/",
     "height": 85
    },
    "colab_type": "code",
    "collapsed": false,
    "id": "6nTcEAO6H7ym",
    "jupyter": {
     "outputs_hidden": false
    },
    "outputId": "e6055f5b-506a-4c22-aef3-e0c19d2dd63e"
   },
   "outputs": [
    {
     "name": "stdout",
     "output_type": "stream",
     "text": [
      "  File \"fact.py\", line 3\n",
      "    print numpy.math.factorial(int(sys.argv[1]))\n",
      "              ^\n",
      "SyntaxError: invalid syntax\n"
     ]
    }
   ],
   "source": [
    "! python fact.py 6"
   ]
  },
  {
   "cell_type": "markdown",
   "metadata": {
    "colab_type": "text",
    "id": "iKtaOioHH7yn"
   },
   "source": [
    "A more complete managment of the argument (especially those like --v) is available using the argparse library. https://docs.python.org/2/library/argparse.html"
   ]
  },
  {
   "cell_type": "markdown",
   "metadata": {
    "colab_type": "text",
    "id": "QdzXPqo1H7yo"
   },
   "source": [
    "### Talking to the OS subprocess"
   ]
  },
  {
   "cell_type": "markdown",
   "metadata": {
    "colab_type": "text",
    "id": "0ncmBCC4H7yo"
   },
   "source": [
    "The os.popen method is deprecated, subprocess is prefered. A good tutorial is here: http://pymotw.com/2/subprocess/"
   ]
  },
  {
   "cell_type": "code",
   "execution_count": 36,
   "metadata": {
    "colab": {},
    "colab_type": "code",
    "collapsed": false,
    "id": "Xp7Yb8C_H7yo",
    "jupyter": {
     "outputs_hidden": false
    }
   },
   "outputs": [],
   "source": [
    "import subprocess"
   ]
  },
  {
   "cell_type": "code",
   "execution_count": 37,
   "metadata": {
    "colab": {
     "base_uri": "https://localhost:8080/",
     "height": 85
    },
    "colab_type": "code",
    "collapsed": false,
    "id": "l64kq98IH7yq",
    "jupyter": {
     "outputs_hidden": false
    },
    "outputId": "3c0c9894-2ad0-4345-adb6-ed2b3787a26c"
   },
   "outputs": [
    {
     "name": "stdout",
     "output_type": "stream",
     "text": [
      "total 63536\n",
      "-rw-------  1 christophemorisset  staff  4229587 May 31  2016 CALIFA_ah7.dat.gz\n",
      "-rw-------  1 christophemorisset  staff    20137 Nov  1  2018 Calling Fortran.ipynb\n",
      "-rw-------  1 christophemorisset  staff    86815 Jun  2  2016 Calling Fortran.pdf\n",
      "-rw-------  1 christophemorisset  staff     7717 May 31  2016 Ex1.ipynb\n",
      "-rw-------  1 christophemorisset  staff   381664 May 31  2016 Ex1_done.ipynb\n",
      "-rw-------  1 christophemorisset  staff   315341 May 31  2016 Ex1_with_res.ipynb\n",
      "-rw-------@ 1 christophemorisset  staff   860517 Sep 21 16:38 InstallPython.key\n",
      "-rw-------  1 christophemorisset  staff   519777 Jun 30  2017 Interact with files.ipynb\n",
      "-rw-------  1 christophemorisset  staff   388118 Jun 30  2017 Interact with files.pdf\n",
      "-rw-------  1 christophemorisset  staff   131497 May 31  2016 Intro_1.odp\n",
      "-rw-------  1 christophemorisset  staff   174202 May 31  2016 Intro_1.pdf\n",
      "-rw-------  1 christophemorisset  staff   130234 May 31  2016 Intro_2014.odp\n",
      "-rw-------  1 christophemorisset  staff   110524 Nov 22  2017 MySQL.pdf\n",
      "-rw-------  1 christophemorisset  staff  1270918 May 31  2016 MySQL.pdf.gz\n",
      "-rw-------  1 christophemorisset  staff   688451 Oct  3  2019 OOP.ipynb\n",
      "-rw-------  1 christophemorisset  staff   568413 Jun 30  2017 OOP.pdf\n",
      "-rw-------  1 christophemorisset  staff   870171 Nov  7  2019 Optimization.ipynb\n",
      "-rw-------  1 christophemorisset  staff   481656 Jun  2  2016 Optimization.pdf\n",
      "-rw-------  1 christophemorisset  staff     2537 Nov  9  2016 Parallel.ipynb\n",
      "-rw-------  1 christophemorisset  staff     4252 Nov 23  2016 Tarea1.py\n",
      "-rw-r--r--  1 christophemorisset  staff    32321 Sep 21 16:59 Useful_libraries.ipynb\n",
      "-rw-r--r--@ 1 christophemorisset  staff    77840 Jul  1 23:05 Useful_libraries.pdf\n",
      "-rw-------  1 christophemorisset  staff   280336 Nov 22  2018 Using_PyMySQL.ipynb\n",
      "-rw-------  1 christophemorisset  staff   221936 Nov 17  2016 Using_PyMySQL.pdf\n",
      "-rw-------  1 christophemorisset  staff   167332 Oct 31  2019 Using_astropy.ipynb\n",
      "-rw-------  1 christophemorisset  staff   206058 Jun 30  2017 Using_astropy.pdf\n",
      "drwxr-xr-x  3 christophemorisset  staff       96 Mar 22  2020 \u001b[34m__pycache__\u001b[m\u001b[m/\n",
      "-rw-------  1 christophemorisset  staff      298 May 31  2016 dcumsum.f\n",
      "-rw-------  1 christophemorisset  staff    30716 Nov 10  2016 dcumsum.so\n",
      "-rw-------  1 christophemorisset  staff     1379 Jun 15  2017 ex1.html\n",
      "-rw-------  1 christophemorisset  staff      154 May 31  2016 ex1.py\n",
      "-rw-------  1 christophemorisset  staff      288 Jun 29  2017 ex1.pyc\n",
      "-rw-------  1 christophemorisset  staff        8 May 31  2016 ex1.txt\n",
      "-rw-------  1 christophemorisset  staff       70 Sep 21 17:01 fact.py\n",
      "-rw-------  1 christophemorisset  staff     4214 May 31  2016 grep.py\n",
      "-rw-------  1 christophemorisset  staff     4995 May 31  2016 grep2.py\n",
      "-rw-------  1 christophemorisset  staff     6319 May 31  2016 grep3.py\n",
      "-rw-------  1 christophemorisset  staff     5575 Dec  9  2016 grep3.pyc\n",
      "-rw-------  1 christophemorisset  staff       49 May 31  2016 hello.py\n",
      "-rw-------  1 christophemorisset  staff     1090 May 31  2016 hellofortran.c\n",
      "-rw-------  1 christophemorisset  staff      178 May 31  2016 hellofortran.f\n",
      "-rw-------  1 christophemorisset  staff    33976 May 31  2016 hellofortran.so\n",
      "-rw-------  1 christophemorisset  staff      150 May 31  2016 index.html\n",
      "-rw-------  1 christophemorisset  staff  2217329 Sep 19  2019 intro_Matplotlib.ipynb\n",
      "-rw-------  1 christophemorisset  staff  1643810 Jun 30  2017 intro_Matplotlib.pdf\n",
      "-rw-------  1 christophemorisset  staff   326924 May 31  2016 intro_Python.html\n",
      "-rw-------  1 christophemorisset  staff    77673 Jun 30  2017 intro_Python.ipynb\n",
      "-rw-------  1 christophemorisset  staff   143102 Jun 30  2017 intro_Python.pdf\n",
      "-rw-------  1 christophemorisset  staff   179449 May 31  2016 intro_Python_2.pdf\n",
      "-rw-------  1 christophemorisset  staff   103229 May 31  2016 intro_Python_3.pdf\n",
      "-rw-------  1 christophemorisset  staff   797512 Sep 26  2019 intro_Scipy.ipynb\n",
      "-rw-------  1 christophemorisset  staff   570062 Jun 30  2017 intro_Scipy.pdf\n",
      "-rw-------  1 christophemorisset  staff    93510 Jun 30  2017 intro_numpy.ipynb\n",
      "-rw-------  1 christophemorisset  staff   148857 Jun 30  2017 intro_numpy.pdf\n",
      "-rw-------  1 christophemorisset  staff  8830080 May 31  2016 n10017o.fits\n",
      "-rw-------  1 christophemorisset  staff     5760 May 31  2016 new.fits\n",
      "-rw-------  1 christophemorisset  staff   435801 May 31  2016 query_res.dat\n",
      "-rw-------  1 christophemorisset  staff  1059840 May 31  2016 swp04345.mxhi\n",
      "-rw-------  1 christophemorisset  staff       48 Sep 21 17:01 sys_text.py\n",
      "-rw-------  1 christophemorisset  staff      354 Oct 31  2019 tab1.dat\n",
      "-rw-------  1 christophemorisset  staff      668 Oct 31  2019 tab_cds1.ascii\n",
      "-rw-------  1 christophemorisset  staff    43200 May 31  2016 tab_cds1.fits\n",
      "-rw-------  1 christophemorisset  staff     1334 Oct 31  2019 tab_cds1.tex\n",
      "-rw-------  1 christophemorisset  staff     1617 Oct 31  2019 tab_cds2.ascii\n",
      "drwxr-xr-x  4 christophemorisset  staff      128 Sep 21 16:30 \u001b[34mtt\u001b[m\u001b[m/\n"
     ]
    }
   ],
   "source": [
    "ls -l"
   ]
  },
  {
   "cell_type": "code",
   "execution_count": 38,
   "metadata": {
    "colab": {
     "base_uri": "https://localhost:8080/",
     "height": 34
    },
    "colab_type": "code",
    "collapsed": false,
    "id": "ofuFO3s3H7ys",
    "jupyter": {
     "outputs_hidden": false
    },
    "outputId": "68854b8a-de0e-41e1-facb-ea91d9a9d923"
   },
   "outputs": [
    {
     "data": {
      "text/plain": [
       "0"
      ]
     },
     "execution_count": 38,
     "metadata": {},
     "output_type": "execute_result"
    }
   ],
   "source": [
    "subprocess.call(['ls -l'], shell=True)\n",
    "# The results is not visible in Notebook. In command line, the files are listed"
   ]
  },
  {
   "cell_type": "code",
   "execution_count": 39,
   "metadata": {
    "colab": {
     "base_uri": "https://localhost:8080/",
     "height": 119
    },
    "colab_type": "code",
    "collapsed": false,
    "id": "b5PXYqRSH7yu",
    "jupyter": {
     "outputs_hidden": false
    },
    "outputId": "9d211a0c-abf1-46e6-a1cb-364ecf84a271"
   },
   "outputs": [
    {
     "name": "stdout",
     "output_type": "stream",
     "text": [
      "<class 'bytes'>\n",
      "total 63536\n",
      "-rw-------  1 christophemorisset  staff  4229587 May 31  2016 CALIFA_ah7.dat.gz\n",
      "-rw-------  1 christophemorisset  staff    20137 Nov  1  2018 Calling Fortran.ipynb\n",
      "-rw-------  1 christophemorisset  staff    86815 Jun  2  2016 Calling Fortran.pdf\n",
      "-rw-------  1 christophemorisset  staff     7717 May 31  2016 Ex1.ipynb\n",
      "-rw-------  1 christophemorisset  staff   381664 May 31  2016 Ex1_done.ipynb\n",
      "-rw-------  1 christophemorisset  staff   315341 May 31  2016 Ex1_with_res.ipynb\n",
      "-rw-------@ 1 christophemorisset  staff   860517 Sep 21 16:38 InstallPython.key\n",
      "-rw-------  1 christophemorisset  staff   519777 Jun 30  2017 Interact with files.ipynb\n",
      "-rw-------  1 christophemorisset  staff   388118 Jun 30  2017 Interact with files.pdf\n",
      "-rw-------  1 christophemorisset  staff   131497 May 31  2016 Intro_1.odp\n",
      "-rw-------  1 christophemorisset  staff   174202 May 31  2016 Intro_1.pdf\n",
      "-rw-------  1 christophemorisset  staff   130234 May 31  2016 Intro_2014.odp\n",
      "-rw-------  1 christophemorisset  staff   110524 Nov 22  2017 MySQL.pdf\n",
      "-rw-------  1 christophemorisset  staff  1270918 May 31  2016 MySQL.pdf.gz\n",
      "-rw-------  1 christophemorisset  staff   688451 Oct  3  2019 OOP.ipynb\n",
      "-rw-------  1 christophemorisset  staff   568413 Jun 30  2017 OOP.pdf\n",
      "-rw-------  1 christophemorisset  staff   870171 Nov  7  2019 Optimization.ipynb\n",
      "-rw-------  1 christophemorisset  staff   481656 Jun  2  2016 Optimization.pdf\n",
      "-rw-------  1 christophemorisset  staff     2537 Nov  9  2016 Parallel.ipynb\n",
      "-rw-------  1 christophemorisset  staff     4252 Nov 23  2016 Tarea1.py\n",
      "-rw-r--r--  1 christophemorisset  staff    32321 Sep 21 16:59 Useful_libraries.ipynb\n",
      "-rw-r--r--@ 1 christophemorisset  staff    77840 Jul  1 23:05 Useful_libraries.pdf\n",
      "-rw-------  1 christophemorisset  staff   280336 Nov 22  2018 Using_PyMySQL.ipynb\n",
      "-rw-------  1 christophemorisset  staff   221936 Nov 17  2016 Using_PyMySQL.pdf\n",
      "-rw-------  1 christophemorisset  staff   167332 Oct 31  2019 Using_astropy.ipynb\n",
      "-rw-------  1 christophemorisset  staff   206058 Jun 30  2017 Using_astropy.pdf\n",
      "drwxr-xr-x  3 christophemorisset  staff       96 Mar 22  2020 __pycache__\n",
      "-rw-------  1 christophemorisset  staff      298 May 31  2016 dcumsum.f\n",
      "-rw-------  1 christophemorisset  staff    30716 Nov 10  2016 dcumsum.so\n",
      "-rw-------  1 christophemorisset  staff     1379 Jun 15  2017 ex1.html\n",
      "-rw-------  1 christophemorisset  staff      154 May 31  2016 ex1.py\n",
      "-rw-------  1 christophemorisset  staff      288 Jun 29  2017 ex1.pyc\n",
      "-rw-------  1 christophemorisset  staff        8 May 31  2016 ex1.txt\n",
      "-rw-------  1 christophemorisset  staff       70 Sep 21 17:01 fact.py\n",
      "-rw-------  1 christophemorisset  staff     4214 May 31  2016 grep.py\n",
      "-rw-------  1 christophemorisset  staff     4995 May 31  2016 grep2.py\n",
      "-rw-------  1 christophemorisset  staff     6319 May 31  2016 grep3.py\n",
      "-rw-------  1 christophemorisset  staff     5575 Dec  9  2016 grep3.pyc\n",
      "-rw-------  1 christophemorisset  staff       49 May 31  2016 hello.py\n",
      "-rw-------  1 christophemorisset  staff     1090 May 31  2016 hellofortran.c\n",
      "-rw-------  1 christophemorisset  staff      178 May 31  2016 hellofortran.f\n",
      "-rw-------  1 christophemorisset  staff    33976 May 31  2016 hellofortran.so\n",
      "-rw-------  1 christophemorisset  staff      150 May 31  2016 index.html\n",
      "-rw-------  1 christophemorisset  staff  2217329 Sep 19  2019 intro_Matplotlib.ipynb\n",
      "-rw-------  1 christophemorisset  staff  1643810 Jun 30  2017 intro_Matplotlib.pdf\n",
      "-rw-------  1 christophemorisset  staff   326924 May 31  2016 intro_Python.html\n",
      "-rw-------  1 christophemorisset  staff    77673 Jun 30  2017 intro_Python.ipynb\n",
      "-rw-------  1 christophemorisset  staff   143102 Jun 30  2017 intro_Python.pdf\n",
      "-rw-------  1 christophemorisset  staff   179449 May 31  2016 intro_Python_2.pdf\n",
      "-rw-------  1 christophemorisset  staff   103229 May 31  2016 intro_Python_3.pdf\n",
      "-rw-------  1 christophemorisset  staff   797512 Sep 26  2019 intro_Scipy.ipynb\n",
      "-rw-------  1 christophemorisset  staff   570062 Jun 30  2017 intro_Scipy.pdf\n",
      "-rw-------  1 christophemorisset  staff    93510 Jun 30  2017 intro_numpy.ipynb\n",
      "-rw-------  1 christophemorisset  staff   148857 Jun 30  2017 intro_numpy.pdf\n",
      "-rw-------  1 christophemorisset  staff  8830080 May 31  2016 n10017o.fits\n",
      "-rw-------  1 christophemorisset  staff     5760 May 31  2016 new.fits\n",
      "-rw-------  1 christophemorisset  staff   435801 May 31  2016 query_res.dat\n",
      "-rw-------  1 christophemorisset  staff  1059840 May 31  2016 swp04345.mxhi\n",
      "-rw-------  1 christophemorisset  staff       48 Sep 21 17:01 sys_text.py\n",
      "-rw-------  1 christophemorisset  staff      354 Oct 31  2019 tab1.dat\n",
      "-rw-------  1 christophemorisset  staff      668 Oct 31  2019 tab_cds1.ascii\n",
      "-rw-------  1 christophemorisset  staff    43200 May 31  2016 tab_cds1.fits\n",
      "-rw-------  1 christophemorisset  staff     1334 Oct 31  2019 tab_cds1.tex\n",
      "-rw-------  1 christophemorisset  staff     1617 Oct 31  2019 tab_cds2.ascii\n",
      "drwxr-xr-x  4 christophemorisset  staff      128 Sep 21 16:30 tt\n",
      "\n"
     ]
    }
   ],
   "source": [
    "output = subprocess.check_output(['ls', '-l'])\n",
    "print(type(output))\n",
    "print(output.decode())"
   ]
  },
  {
   "cell_type": "code",
   "execution_count": 40,
   "metadata": {
    "colab": {
     "base_uri": "https://localhost:8080/",
     "height": 34
    },
    "colab_type": "code",
    "collapsed": false,
    "id": "jYxGkVsLH7yw",
    "jupyter": {
     "outputs_hidden": false
    },
    "outputId": "8345f68f-94a6-4dd9-8b30-59a2a1c9c8d1"
   },
   "outputs": [
    {
     "name": "stdout",
     "output_type": "stream",
     "text": [
      "<subprocess.Popen object at 0x7f7f1d307e10>\n"
     ]
    }
   ],
   "source": [
    "command = 'ls -l'\n",
    "popen = subprocess.Popen(command, shell=True)\n",
    "# The same apply here, no output in Notebook\n",
    "print(popen)"
   ]
  },
  {
   "cell_type": "code",
   "execution_count": 41,
   "metadata": {
    "colab": {
     "base_uri": "https://localhost:8080/",
     "height": 119
    },
    "colab_type": "code",
    "collapsed": false,
    "id": "jN9M7W9AH7yy",
    "jupyter": {
     "outputs_hidden": false
    },
    "outputId": "d7363d86-c8ad-44e2-8268-acd9774564f9"
   },
   "outputs": [
    {
     "name": "stdout",
     "output_type": "stream",
     "text": [
      "<class 'bytes'>\n",
      "total 63536\n",
      "-rw-------  1 christophemorisset  staff  4229587 May 31  2016 CALIFA_ah7.dat.gz\n",
      "-rw-------  1 christophemorisset  staff    20137 Nov  1  2018 Calling Fortran.ipynb\n",
      "-rw-------  1 christophemorisset  staff    86815 Jun  2  2016 Calling Fortran.pdf\n",
      "-rw-------  1 christophemorisset  staff     7717 May 31  2016 Ex1.ipynb\n",
      "-rw-------  1 christophemorisset  staff   381664 May 31  2016 Ex1_done.ipynb\n",
      "-rw-------  1 christophemorisset  staff   315341 May 31  2016 Ex1_with_res.ipynb\n",
      "-rw-------@ 1 christophemorisset  staff   860517 Sep 21 16:38 InstallPython.key\n",
      "-rw-------  1 christophemorisset  staff   519777 Jun 30  2017 Interact with files.ipynb\n",
      "-rw-------  1 christophemorisset  staff   388118 Jun 30  2017 Interact with files.pdf\n",
      "-rw-------  1 christophemorisset  staff   131497 May 31  2016 Intro_1.odp\n",
      "-rw-------  1 christophemorisset  staff   174202 May 31  2016 Intro_1.pdf\n",
      "-rw-------  1 christophemorisset  staff   130234 May 31  2016 Intro_2014.odp\n",
      "-rw-------  1 christophemorisset  staff   110524 Nov 22  2017 MySQL.pdf\n",
      "-rw-------  1 christophemorisset  staff  1270918 May 31  2016 MySQL.pdf.gz\n",
      "-rw-------  1 christophemorisset  staff   688451 Oct  3  2019 OOP.ipynb\n",
      "-rw-------  1 christophemorisset  staff   568413 Jun 30  2017 OOP.pdf\n",
      "-rw-------  1 christophemorisset  staff   870171 Nov  7  2019 Optimization.ipynb\n",
      "-rw-------  1 christophemorisset  staff   481656 Jun  2  2016 Optimization.pdf\n",
      "-rw-------  1 christophemorisset  staff     2537 Nov  9  2016 Parallel.ipynb\n",
      "-rw-------  1 christophemorisset  staff     4252 Nov 23  2016 Tarea1.py\n",
      "-rw-r--r--  1 christophemorisset  staff    32321 Sep 21 16:59 Useful_libraries.ipynb\n",
      "-rw-r--r--@ 1 christophemorisset  staff    77840 Jul  1 23:05 Useful_libraries.pdf\n",
      "-rw-------  1 christophemorisset  staff   280336 Nov 22  2018 Using_PyMySQL.ipynb\n",
      "-rw-------  1 christophemorisset  staff   221936 Nov 17  2016 Using_PyMySQL.pdf\n",
      "-rw-------  1 christophemorisset  staff   167332 Oct 31  2019 Using_astropy.ipynb\n",
      "-rw-------  1 christophemorisset  staff   206058 Jun 30  2017 Using_astropy.pdf\n",
      "drwxr-xr-x  3 christophemorisset  staff       96 Mar 22  2020 __pycache__\n",
      "-rw-------  1 christophemorisset  staff      298 May 31  2016 dcumsum.f\n",
      "-rw-------  1 christophemorisset  staff    30716 Nov 10  2016 dcumsum.so\n",
      "-rw-------  1 christophemorisset  staff     1379 Jun 15  2017 ex1.html\n",
      "-rw-------  1 christophemorisset  staff      154 May 31  2016 ex1.py\n",
      "-rw-------  1 christophemorisset  staff      288 Jun 29  2017 ex1.pyc\n",
      "-rw-------  1 christophemorisset  staff        8 May 31  2016 ex1.txt\n",
      "-rw-------  1 christophemorisset  staff       70 Sep 21 17:01 fact.py\n",
      "-rw-------  1 christophemorisset  staff     4214 May 31  2016 grep.py\n",
      "-rw-------  1 christophemorisset  staff     4995 May 31  2016 grep2.py\n",
      "-rw-------  1 christophemorisset  staff     6319 May 31  2016 grep3.py\n",
      "-rw-------  1 christophemorisset  staff     5575 Dec  9  2016 grep3.pyc\n",
      "-rw-------  1 christophemorisset  staff       49 May 31  2016 hello.py\n",
      "-rw-------  1 christophemorisset  staff     1090 May 31  2016 hellofortran.c\n",
      "-rw-------  1 christophemorisset  staff      178 May 31  2016 hellofortran.f\n",
      "-rw-------  1 christophemorisset  staff    33976 May 31  2016 hellofortran.so\n",
      "-rw-------  1 christophemorisset  staff      150 May 31  2016 index.html\n",
      "-rw-------  1 christophemorisset  staff  2217329 Sep 19  2019 intro_Matplotlib.ipynb\n",
      "-rw-------  1 christophemorisset  staff  1643810 Jun 30  2017 intro_Matplotlib.pdf\n",
      "-rw-------  1 christophemorisset  staff   326924 May 31  2016 intro_Python.html\n",
      "-rw-------  1 christophemorisset  staff    77673 Jun 30  2017 intro_Python.ipynb\n",
      "-rw-------  1 christophemorisset  staff   143102 Jun 30  2017 intro_Python.pdf\n",
      "-rw-------  1 christophemorisset  staff   179449 May 31  2016 intro_Python_2.pdf\n",
      "-rw-------  1 christophemorisset  staff   103229 May 31  2016 intro_Python_3.pdf\n",
      "-rw-------  1 christophemorisset  staff   797512 Sep 26  2019 intro_Scipy.ipynb\n",
      "-rw-------  1 christophemorisset  staff   570062 Jun 30  2017 intro_Scipy.pdf\n",
      "-rw-------  1 christophemorisset  staff    93510 Jun 30  2017 intro_numpy.ipynb\n",
      "-rw-------  1 christophemorisset  staff   148857 Jun 30  2017 intro_numpy.pdf\n",
      "-rw-------  1 christophemorisset  staff  8830080 May 31  2016 n10017o.fits\n",
      "-rw-------  1 christophemorisset  staff     5760 May 31  2016 new.fits\n",
      "-rw-------  1 christophemorisset  staff   435801 May 31  2016 query_res.dat\n",
      "-rw-------  1 christophemorisset  staff  1059840 May 31  2016 swp04345.mxhi\n",
      "-rw-------  1 christophemorisset  staff       48 Sep 21 17:01 sys_text.py\n",
      "-rw-------  1 christophemorisset  staff      354 Oct 31  2019 tab1.dat\n",
      "-rw-------  1 christophemorisset  staff      668 Oct 31  2019 tab_cds1.ascii\n",
      "-rw-------  1 christophemorisset  staff    43200 May 31  2016 tab_cds1.fits\n",
      "-rw-------  1 christophemorisset  staff     1334 Oct 31  2019 tab_cds1.tex\n",
      "-rw-------  1 christophemorisset  staff     1617 Oct 31  2019 tab_cds2.ascii\n",
      "drwxr-xr-x  4 christophemorisset  staff      128 Sep 21 16:30 tt\n",
      "\n"
     ]
    }
   ],
   "source": [
    "popen = subprocess.Popen(command, stdout=subprocess.PIPE, shell=True)\n",
    "res = popen.communicate()[0]\n",
    "print(type(res))\n",
    "print(res.decode())"
   ]
  },
  {
   "cell_type": "code",
   "execution_count": 42,
   "metadata": {
    "colab": {
     "base_uri": "https://localhost:8080/",
     "height": 232
    },
    "colab_type": "code",
    "collapsed": false,
    "id": "PTND8VhiH7y0",
    "jupyter": {
     "outputs_hidden": false
    },
    "outputId": "c702c550-9697-4394-d2f7-dd234f8fb654"
   },
   "outputs": [
    {
     "name": "stdout",
     "output_type": "stream",
     "text": [
      "CALIFA_ah7.dat.gz\n",
      "MySQL.pdf.gz\n",
      "intro_Matplotlib.ipynb\n",
      "intro_Matplotlib.pdf\n",
      "n10017o.fits\n",
      "swp04345.mxhi\n"
     ]
    }
   ],
   "source": [
    "popen = subprocess.Popen(command, stdout=subprocess.PIPE, shell=True)\n",
    "res = popen.communicate()[0]\n",
    "for line in res.decode().split('\\n'):\n",
    "    lspl = line.split()\n",
    "    if len(lspl)> 4:\n",
    "        if int(lspl[4]) > 1000000:\n",
    "            print(lspl[8])"
   ]
  },
  {
   "cell_type": "markdown",
   "metadata": {
    "colab_type": "text",
    "id": "MXvE3YCBH7y2"
   },
   "source": [
    "### re"
   ]
  },
  {
   "cell_type": "markdown",
   "metadata": {
    "colab_type": "text",
    "id": "_Oc5EkqJH7y2"
   },
   "source": [
    "The re module provides regular expression tools for advanced string processing. For complex matching and manipulation, regular expressions offer succinct, optimized solutions:"
   ]
  },
  {
   "cell_type": "code",
   "execution_count": 43,
   "metadata": {
    "colab": {
     "base_uri": "https://localhost:8080/",
     "height": 34
    },
    "colab_type": "code",
    "collapsed": false,
    "id": "nTGpCPekH7y2",
    "jupyter": {
     "outputs_hidden": false
    },
    "outputId": "10b9758f-87bb-41b7-90ab-073fd5288c7d"
   },
   "outputs": [
    {
     "data": {
      "text/plain": [
       "['fo', 'fell', 'fastest']"
      ]
     },
     "execution_count": 43,
     "metadata": {},
     "output_type": "execute_result"
    }
   ],
   "source": [
    "import re\n",
    "# Search the words starting with \"f\"\n",
    "re.findall(r'\\bf[a-z]*', 'whifch foOt or hand fell fastest')"
   ]
  },
  {
   "cell_type": "code",
   "execution_count": 44,
   "metadata": {
    "colab": {
     "base_uri": "https://localhost:8080/",
     "height": 35
    },
    "colab_type": "code",
    "collapsed": false,
    "id": "z1ffiZhsH7y4",
    "jupyter": {
     "outputs_hidden": false
    },
    "outputId": "0bee0f0b-2696-44b3-aa58-71726a04de7d"
   },
   "outputs": [
    {
     "data": {
      "text/plain": [
       "'cat in the hat'"
      ]
     },
     "execution_count": 44,
     "metadata": {},
     "output_type": "execute_result"
    }
   ],
   "source": [
    "# Remove duplicate words\n",
    "re.sub(r'(\\b[a-z]+) \\1', r'\\1', 'cat in the the hat')"
   ]
  },
  {
   "cell_type": "markdown",
   "metadata": {
    "colab_type": "text",
    "id": "38FF2lkBH7y5"
   },
   "source": [
    "More in https://docs.python.org/2/library/re.html"
   ]
  },
  {
   "cell_type": "markdown",
   "metadata": {
    "colab_type": "text",
    "id": "cSgSOI7KH7y5"
   },
   "source": [
    "### urllib2"
   ]
  },
  {
   "cell_type": "code",
   "execution_count": 45,
   "metadata": {
    "colab": {},
    "colab_type": "code",
    "collapsed": false,
    "id": "gdyqReWHH7y6",
    "jupyter": {
     "outputs_hidden": false
    }
   },
   "outputs": [],
   "source": [
    "# from urllib2 import urlopen # python 2\n",
    "from urllib.request import urlopen"
   ]
  },
  {
   "cell_type": "code",
   "execution_count": 46,
   "metadata": {
    "colab": {
     "base_uri": "https://localhost:8080/",
     "height": 153
    },
    "colab_type": "code",
    "collapsed": false,
    "id": "QfNtvQZGH7y8",
    "jupyter": {
     "outputs_hidden": false
    },
    "outputId": "e24b0aa9-a62e-47b1-b791-ac7e0ac5398b"
   },
   "outputs": [
    {
     "name": "stdout",
     "output_type": "stream",
     "text": [
      "b'<html>\\n'\n",
      "b'<body>\\n'\n",
      "b'<p>\\n'\n",
      "b'Remote IP Address:91.174.28.102</p>\\n'\n",
      "b'</body>\\n'\n",
      "b'</html>'\n",
      "-------\n",
      "91.174.28.102\n"
     ]
    }
   ],
   "source": [
    "for line in urlopen('http://dev.on-rev.com/myip.irev'):\n",
    "    print(line)\n",
    "    if 'IP' in str(line):\n",
    "        IP = str(line).split(':')[1][:-7]\n",
    "print('-------')\n",
    "print(IP)"
   ]
  },
  {
   "cell_type": "code",
   "execution_count": null,
   "metadata": {
    "colab": {},
    "colab_type": "code",
    "id": "xyckF72pJr90"
   },
   "outputs": [],
   "source": []
  }
 ],
 "metadata": {
  "colab": {
   "name": "Useful_libraries.ipynb",
   "provenance": []
  },
  "kernelspec": {
   "display_name": "Python 3",
   "language": "python",
   "name": "python3"
  },
  "language_info": {
   "codemirror_mode": {
    "name": "ipython",
    "version": 3
   },
   "file_extension": ".py",
   "mimetype": "text/x-python",
   "name": "python",
   "nbconvert_exporter": "python",
   "pygments_lexer": "ipython3",
   "version": "3.7.6"
  }
 },
 "nbformat": 4,
 "nbformat_minor": 4
}
